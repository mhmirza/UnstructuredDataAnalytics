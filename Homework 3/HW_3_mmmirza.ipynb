{
 "cells": [
  {
   "cell_type": "markdown",
   "metadata": {},
   "source": [
    "# Homework 3"
   ]
  },
  {
   "cell_type": "markdown",
   "metadata": {},
   "source": [
    "Your name: Mohammad Manzoor Hassan Mirza\n",
    "\n",
    "Your Andrew ID: mmmirza\n",
    "\n",
    "Collaborators (if none, say \\\"none\\\"; do *not* leave this blank): none"
   ]
  },
  {
   "cell_type": "markdown",
   "metadata": {},
   "source": [
    "# Part 1: Email spam classification [50 points]"
   ]
  },
  {
   "cell_type": "markdown",
   "metadata": {},
   "source": [
    "   - Get the data from: http://www.andrew.cmu.edu/user/georgech/preprocessed-enron-email-dataset.zip\n",
    "   - Unzip this into the same folder as this notebook, rename it to `email-data`\n",
    "   - The folder contains 3 subfolders:\n",
    "      - `ham` contains ham emails.\n",
    "      - `spam` contains spam emails.\n",
    "      - `testing` is a folder containing test emails for your classifier. The ham/spam label is in the filename.\n",
    "      \n",
    "**Important**: For this problem, do *not* use neural nets/deep nets."
   ]
  },
  {
   "cell_type": "code",
   "execution_count": 49,
   "metadata": {},
   "outputs": [],
   "source": [
    "# # extracting zip file to ./email-data\n",
    "\n",
    "# import zipfile as zf\n",
    "# files = zf.ZipFile(\"./preprocessed-enron-email-dataset.zip\", 'r')\n",
    "# files.extractall(\"./email-data\")\n",
    "# files.close()\n",
    "\n",
    "# # deteled MACOSX folder\n",
    "# import shutil\n",
    "# shutil.rmtree('./email-data/__MACOSX', ignore_errors=True)"
   ]
  },
  {
   "cell_type": "markdown",
   "metadata": {},
   "source": [
    "### (a) Print the number of ham and spam emails [1 point]\n",
    " \n",
    "In addition to providing the code, respond to the following questions:\n",
    "\n",
    "   - Is this dataset imbalanced? Will this be problematic in training the model? \n",
    "   - If so, how would you address it? (You do *not* have to implement what you suggest here for later parts of the problem.)"
   ]
  },
  {
   "cell_type": "code",
   "execution_count": 1,
   "metadata": {},
   "outputs": [
    {
     "name": "stdout",
     "output_type": "stream",
     "text": [
      "Number of spam files: 3671\n",
      "Number of ham files: 1500\n"
     ]
    }
   ],
   "source": [
    "# import required module\n",
    "import os\n",
    "\n",
    "# creating path to access the main folder containing data sub-folders\n",
    "path = './email-data/'\n",
    "\n",
    "# iterate over two sub-folders in this path\n",
    "for folder in [\"spam\", \"ham\"]:\n",
    "    # join original path to access each sub-folder \n",
    "    path_folder = os.path.join(path, folder)\n",
    "    # get the list of the entries in this specific sub-folder\n",
    "    print(\"Number of\", str(folder), \"files:\", len(os.listdir(path_folder)))"
   ]
  },
  {
   "cell_type": "markdown",
   "metadata": {},
   "source": [
    "1. Yes, the dataset is imbalanced since the number of spam training points is 3,671 whereas the number of ham training points is 1,500. This can possibly lead to problems in training the model such as lower model accuracy or overfitting.\n",
    "\n",
    "2. There are several ways to address the problem of an imbalanced sample. We could try oversampling i.e. randomly adding more examples to the minority class (ham files) or undersampling i.e. randomly removing examples from the majority class (spam files). "
   ]
  },
  {
   "cell_type": "markdown",
   "metadata": {},
   "source": [
    "### (b) Construct the documents [4 points]\n",
    " \n",
    "   - Provided below is a function that returns a document present in a file given a fileName.\n",
    "   - The function performs some preprocessing to (1) remove punctuation, (2),(3) remove whitespace and (4) lowercase all words.\n",
    "   - Use this function to construct a list of documents.\n",
    "   - Also construct a list of document labels containing `1` for spam and `0` for ham."
   ]
  },
  {
   "cell_type": "code",
   "execution_count": 2,
   "metadata": {},
   "outputs": [],
   "source": [
    "import re\n",
    "import string\n",
    "import codecs\n",
    "\n",
    "def makeWordList(path):\n",
    "    \n",
    "    with codecs.open(path, \"r\", encoding='utf-8', errors='ignore') as f:\n",
    "        corpus_text = f.read()\n",
    "\n",
    "    for c in string.punctuation:\n",
    "        corpus_text = corpus_text.replace(c, \"\")  # -- (1)\n",
    "    \n",
    "    text = re.sub(r'\\S*\\d\\S*','',corpus_text) # -- (2)\n",
    "    text = re.sub(r'[^\\w\\s]','',text)         # -- (3)\n",
    "    \n",
    "    text = text.lower().split()           # -- (4)         \n",
    "    \n",
    "    li = []\n",
    "    for token in text:\n",
    "        li.append(token)\n",
    "\n",
    "    return \" \".join(li)"
   ]
  },
  {
   "cell_type": "code",
   "execution_count": 3,
   "metadata": {},
   "outputs": [],
   "source": [
    "# creating path to access the main folder containing data sub-folders\n",
    "path = './email-data/'\n",
    "\n",
    "# an empty list to store a list of strings where each string is a processed email\n",
    "docs = []\n",
    "# an empty list to store the labels for each email i.e. 1 for spam and 0 for ham\n",
    "docs_labels = []\n",
    "\n",
    "# iterating through each sub-folder, one at a time\n",
    "for sub_folder in [\"spam\", \"ham\"]:\n",
    "    # join original path to access each sub-folder \n",
    "    path_folder = os.path.join(path, sub_folder)\n",
    "    # loop through the files in each sub-folder\n",
    "    for filename in os.listdir(path_folder):\n",
    "        # create a path to access each file in the sub-folder\n",
    "        path_folder_file = os.path.join(path_folder, filename)\n",
    "        # open and read each file as text, and do some pre-processing to return one string i.e. a bunch of tokens\n",
    "        docs.append(makeWordList(path_folder_file))\n",
    "        # concomitantly add respective labels, each time a file from spam/ ham sub-folder is being read\n",
    "        if sub_folder == \"spam\":\n",
    "            docs_labels.append(1)\n",
    "        if sub_folder == \"ham\":\n",
    "            docs_labels.append(0)"
   ]
  },
  {
   "cell_type": "markdown",
   "metadata": {},
   "source": [
    "### (c) Construct the document matrix `X` as a matrix of word frequencies [5 points]\n",
    "\n",
    "   - Use the `CountVectorizer` from scikit-learn.\n",
    "   - Set `min_df=50`; this drops words that don't occur in at least 50 documents.\n",
    "   - Set `stop_words=\"english\"` and `max_df=0.8` to filter out stop-words.\n",
    "   - Print the size of the vocabulary (number of unique words)"
   ]
  },
  {
   "cell_type": "code",
   "execution_count": 4,
   "metadata": {},
   "outputs": [
    {
     "name": "stdout",
     "output_type": "stream",
     "text": [
      "1680\n"
     ]
    }
   ],
   "source": [
    "# CountVectorizer does tokenization, removes terms that occur too frequently, not frequently enough or are stop words\n",
    "from sklearn.feature_extraction.text import CountVectorizer\n",
    "\n",
    "# document frequency (df) means number of documents a word appears in\n",
    "tf_vectorizer = CountVectorizer(max_df=0.8, # remove words that appear in more than 80% of the documents, since they are not interesting\n",
    "                                min_df=50, # remove any words that appear in less than 50 documents\n",
    "                                stop_words='english')\n",
    "\n",
    "# transform gives you a feature vector representation (typically requires a list of strings such as 'docs' as input)\n",
    "# In X, documents/emails are rows, words are columns, cell values are the raw term frequency counts\n",
    "X = tf_vectorizer.fit_transform(docs)\n",
    "# converting the matrix to a numpy array\n",
    "X = X.toarray()\n",
    "\n",
    "# printing the number of unique words \n",
    "vocab = list(tf_vectorizer.vocabulary_.keys())\n",
    "print(len(vocab))"
   ]
  },
  {
   "cell_type": "markdown",
   "metadata": {},
   "source": [
    "### (d) k-NN and random forest: Hyperparameter selection [15 points]\n",
    "\n",
    "Now that you have your documents and labels as training data, you can perform 5-fold cross-validation to select the hyperparameters for different learning algorithms.\n",
    "\n",
    "The hyperparameter with the best performance averaged across 5 folds is chosen. Use the **weighted F1-score** as the evaluation metric (i.e., for the `f1_score` function imported from `sklearn.metrics`, be sure to use the parameter `average='weighted'`).\n",
    "\n",
    "   - k-NN: Select `k` from a range of values of your choice.\n",
    "   - Random forest: Select `max_features` **and** `min_samples_leaf` from a grid of your choice.\n",
    "\n",
    "Store each chosen hyperparameter as `best_k`, `best_C`, `best_max_features`, and `best_min_samples_leaf` respectively.\n",
    "\n",
    "Provided is some seed code for cross-validation that you may modify and reuse. Do not use the cross-validations score or grid-search functions from scikit-learn (you may use `KFold`)."
   ]
  },
  {
   "cell_type": "code",
   "execution_count": 5,
   "metadata": {},
   "outputs": [
    {
     "name": "stdout",
     "output_type": "stream",
     "text": [
      "k: 1 cross validation score: 0.9255955639970417\n",
      "k: 2 cross validation score: 0.9268892583530188\n",
      "k: 4 cross validation score: 0.9128137740182047\n",
      "k: 8 cross validation score: 0.8928154389747494\n",
      "k: 16 cross validation score: 0.8676940432911854\n",
      "k: 32 cross validation score: 0.842165487503177\n",
      "k: 64 cross validation score: 0.8204890460395061\n",
      "k: 128 cross validation score: 0.802796314851802\n",
      "Best k: 2 highest cross validation score: 0.9268892583530188\n"
     ]
    }
   ],
   "source": [
    "# Task 1 (KNN): choosing hyperparameter k which give the highest CV score (code comments added in the next part)\n",
    "\n",
    "from sklearn.model_selection import KFold\n",
    "import numpy as np\n",
    "from sklearn.neighbors import KNeighborsClassifier\n",
    "from sklearn.metrics import f1_score\n",
    "\n",
    "num_folds = 5\n",
    "k_fold = KFold(num_folds)\n",
    "best_k = None\n",
    "best_cross_val_score = -np.inf  \n",
    "\n",
    "for k in 2**np.arange(0, 8):\n",
    "    fold_scores = []    \n",
    "    \n",
    "    for proper_train_indices, val_indices in k_fold.split(X):\n",
    "        proper_train_features = X[proper_train_indices]\n",
    "        proper_train_labels = np.array(docs_labels)[proper_train_indices]\n",
    "        val_features = X[val_indices]\n",
    "        val_labels = np.array(docs_labels)[val_indices]\n",
    "\n",
    "        knn_classifier = KNeighborsClassifier(n_neighbors=k)\n",
    "        knn_classifier.fit(proper_train_features, proper_train_labels)\n",
    "        predicted_val_labels = knn_classifier.predict(val_features)\n",
    "        fold_score = f1_score(val_labels, predicted_val_labels, average='weighted')\n",
    "        fold_scores.append(fold_score)    \n",
    "\n",
    "    cross_val_score = np.mean(fold_scores)\n",
    "    print('k:', k, 'cross validation score:', cross_val_score)\n",
    "    if cross_val_score > best_cross_val_score:  # assumes that a higher score is better \n",
    "        best_cross_val_score = cross_val_score\n",
    "        best_k = k\n",
    "\n",
    "print('Best k:', best_k, 'highest cross validation score:', best_cross_val_score)"
   ]
  },
  {
   "cell_type": "code",
   "execution_count": 6,
   "metadata": {},
   "outputs": [
    {
     "name": "stdout",
     "output_type": "stream",
     "text": [
      "max_features: 11 min_samples_leaf: 1 cross validation score: 0.9709195384117212\n",
      "max_features: 11 min_samples_leaf: 2 cross validation score: 0.9528399563328028\n",
      "max_features: 11 min_samples_leaf: 4 cross validation score: 0.9292216541208511\n",
      "max_features: 11 min_samples_leaf: 8 cross validation score: 0.8982626593647518\n",
      "max_features: 11 min_samples_leaf: 16 cross validation score: 0.864457670500385\n",
      "max_features: 41 min_samples_leaf: 1 cross validation score: 0.974494613316297\n",
      "max_features: 41 min_samples_leaf: 2 cross validation score: 0.972057778645423\n",
      "max_features: 41 min_samples_leaf: 4 cross validation score: 0.9662835907992365\n",
      "max_features: 41 min_samples_leaf: 8 cross validation score: 0.9423243910365654\n",
      "max_features: 41 min_samples_leaf: 16 cross validation score: 0.9152009051323591\n",
      "max_features: 164 min_samples_leaf: 1 cross validation score: 0.9658728470427652\n",
      "max_features: 164 min_samples_leaf: 2 cross validation score: 0.9669929766870068\n",
      "max_features: 164 min_samples_leaf: 4 cross validation score: 0.9624067298029235\n",
      "max_features: 164 min_samples_leaf: 8 cross validation score: 0.959003167680834\n",
      "max_features: 164 min_samples_leaf: 16 cross validation score: 0.9524573445920964\n",
      "best_max_features: 41 best_min_samples_leaf: 1 highest cross validation score: 0.974494613316297\n"
     ]
    }
   ],
   "source": [
    "# Task 2 (Random Forests): choosing hyperparameters (max_features, min_samples_leaf) which give the highest CV score\n",
    "\n",
    "from sklearn.model_selection import KFold\n",
    "import numpy as np\n",
    "from sklearn.ensemble import RandomForestClassifier\n",
    "from sklearn.metrics import f1_score\n",
    "\n",
    "# each fold is used ONCE as the 'validation' set, while the other four folds form the 'proper training set'\n",
    "num_folds = 5\n",
    "\n",
    "# Kfold keeps a track of indices of what items are in training and validation set \n",
    "k_fold = KFold(num_folds)\n",
    "\n",
    "# nonetype variables to store the best hyperparameters max_features and min_samples_leaf\n",
    "best_max_features = None\n",
    "best_min_samples_leaf = None\n",
    "\n",
    "# assumes that a higher score is better (use np.inf, if using misclassification error instead since lower error is better)\n",
    "best_cross_val_score = -np.inf\n",
    "\n",
    "# only used to set up the grid for max_features (usually RF yeilds max features as sq.root(num_features))\n",
    "num_features = X.shape[1]\n",
    "\n",
    "# a list of tuples with different hyperparameter combinations\n",
    "hyperparameter_settings = [(max_features, min_samples_leaf)\n",
    "                           for max_features in [int(np.ceil(np.sqrt(num_features) / 4)),\n",
    "                                                int(np.ceil(np.sqrt(num_features))),\n",
    "                                                int(np.ceil(np.sqrt(num_features) * 4))]\n",
    "                           for min_samples_leaf in [1, 2, 4, 8, 16]]  \n",
    "\n",
    "# looping through each tuple of (max_features, min_samples_leaf) in the list hyperparameter_settings\n",
    "for max_features, min_samples_leaf in hyperparameter_settings:\n",
    "    # for each hyperamarameter setting, storing five f1_scores in this list (to compute the average at a later stage)\n",
    "    fold_scores = []\n",
    "    \n",
    "    # split the data into two sets of indicies i.e. \"proper training\" and validation, using k_fold.split\n",
    "    for proper_train_indices, val_indices in k_fold.split(X):\n",
    "        # using the indices generated by split above to create a subset from training data -> proper training features \n",
    "        proper_train_features = X[proper_train_indices]\n",
    "        # using the indices generated by split above to to create a subset from training labels -> proper training labels \n",
    "        proper_train_labels = np.array(docs_labels)[proper_train_indices]\n",
    "        # using the indices generated by split above to to create a subset from training data -> validation features\n",
    "        val_features = X[val_indices]\n",
    "        # using the indices generated by split above to create a subset from training labels -> validation labels\n",
    "        val_labels = np.array(docs_labels)[val_indices]\n",
    "\n",
    "        # plugging in the current iteration of hyperparameter setting to Random Forest Classifier\n",
    "        rf_classifier = RandomForestClassifier(max_features=max_features,\n",
    "                                               min_samples_leaf=min_samples_leaf,\n",
    "                                               random_state=0)\n",
    "        # fit the model on the proper training set -> the model will be fit k i.e. five times\n",
    "        rf_classifier.fit(proper_train_features, proper_train_labels)\n",
    "        # predicting labels in the validation set -> this process is also repeated k i.e. five times\n",
    "        predicted_val_labels = rf_classifier.predict(val_features)\n",
    "        # calculating the f1 score on the validation set\n",
    "        fold_score = f1_score(val_labels, predicted_val_labels, average='weighted')\n",
    "        fold_scores.append(fold_score)\n",
    "    # ****once this INNER for loop completes, five scores would have been appended to the empty list i.e. fold_scores****\n",
    "\n",
    "    # for each hyperparameter setting (OUTER for loop), calculate the average across all five scores (from INNER for loop)\n",
    "    cross_val_score = np.mean(fold_scores)\n",
    "    print('max_features:', max_features, 'min_samples_leaf:', min_samples_leaf, 'cross validation score:', cross_val_score)\n",
    "    # if this average > than the already saved best cv score, update the best cv score, along with the parameters\n",
    "    if cross_val_score > best_cross_val_score:  # assumes that a higher score is better \n",
    "        best_cross_val_score = cross_val_score\n",
    "        best_max_features = max_features\n",
    "        best_min_samples_leaf = min_samples_leaf\n",
    "\n",
    "# printing the hyperamater setting which gives the highest cross validation score i.e. average across all five folds\n",
    "print('best_max_features:', best_max_features, \n",
    "      'best_min_samples_leaf:', best_min_samples_leaf,\n",
    "      'highest cross validation score:', best_cross_val_score)"
   ]
  },
  {
   "cell_type": "markdown",
   "metadata": {},
   "source": [
    "### (e) Classifier testing: Precision-Recall and ROC curves [25 points]\n",
    "\n",
    "   - Use the best hyperparameters for each classifier from the previous question to **train** your classifiers on the training data.\n",
    "   - Use test emails to in the `testing` folder to **test** your classifiers and construct the plots below.\n",
    "\n",
    "Things to plot:\n",
    "\n",
    "   - Construct one plot containing 2 ROC curves, one for each classifier.\n",
    "   - In the legend of this plot, display the AUC for each classifier.\n",
    "   - Construct one plot containing 2 precision-recall curves, one for each classifier.\n",
    "   - In the legend of each plot, display the average precision for each classifier.\n",
    "\n",
    "Note that these plots are on the test data: you will have to read in this data, construct a document matrix and labels. Some words in the test data may not have been present in the training data: there are multiple ways to address this, briefly describe your approach.\n",
    "\n",
    "**Answer:**  To ensure that the document matrix generated from training emails (ham/spam folders) and the one generated from testing emails (testing folder) has the same number of features i.e. 1,680 words, I used 'tf_vectorizer.transform' on the list of strings, docs_test. This provides us a feature vector representation for each email, and the matrix overall has dimensions (100, 1680) i.e. (test points, features/words).\n",
    "\n",
    "Things to answer (responses provided at the end of the notebook):\n",
    "\n",
    "   - Of the ROC and Precision-Recall curves, which one would you use for this task and why?\n",
    "   - Which classifier is the best, according to your chosen curves?"
   ]
  },
  {
   "cell_type": "code",
   "execution_count": 7,
   "metadata": {},
   "outputs": [
    {
     "data": {
      "text/plain": [
       "KNeighborsClassifier(n_neighbors=2)"
      ]
     },
     "execution_count": 7,
     "metadata": {},
     "output_type": "execute_result"
    }
   ],
   "source": [
    "# setting the knn_classifier using the best hyperparameter from previous part\n",
    "final_knn_classifier = KNeighborsClassifier(n_neighbors=best_k)\n",
    "\n",
    "# fitting the rf_classifer on complete training data\n",
    "final_knn_classifier.fit(X, np.array(docs_labels))"
   ]
  },
  {
   "cell_type": "code",
   "execution_count": 8,
   "metadata": {},
   "outputs": [
    {
     "data": {
      "text/plain": [
       "RandomForestClassifier(max_features=41, random_state=0)"
      ]
     },
     "execution_count": 8,
     "metadata": {},
     "output_type": "execute_result"
    }
   ],
   "source": [
    "# setting the rf_classifier using the best hyperparameters from previous part\n",
    "final_rf_classifier = RandomForestClassifier(max_features=best_max_features, \n",
    "                                       min_samples_leaf=best_min_samples_leaf, \n",
    "                                       random_state=0)\n",
    "\n",
    "# fitting the rf_classifer on complete training data\n",
    "final_rf_classifier.fit(X, np.array(docs_labels))"
   ]
  },
  {
   "cell_type": "code",
   "execution_count": 10,
   "metadata": {},
   "outputs": [],
   "source": [
    "# storing the processed emails and their labels in testing in this empty list\n",
    "docs_test = []\n",
    "docs_test_labels = []\n",
    "\n",
    "# reading in all files in the sub-folder 'testing'\n",
    "path_folder = os.path.join(path, 'testing')\n",
    "for filename in os.listdir(path_folder):\n",
    "    path_folder_file = os.path.join(path_folder, filename)\n",
    "    docs_test.append(makeWordList(path_folder_file))\n",
    "    label = filename.split(\".\")[3]\n",
    "    if label == 'spam':\n",
    "        docs_test_labels.append(1)\n",
    "    if label == 'ham':\n",
    "        docs_test_labels.append(0)\n",
    "\n",
    "# getting a feature vector representation (must have the same # of features i.e. 1680 words as in training data)\n",
    "X_TEST = tf_vectorizer.transform(docs_test)\n",
    "X_TEST = X_TEST.toarray()"
   ]
  },
  {
   "cell_type": "code",
   "execution_count": 11,
   "metadata": {},
   "outputs": [
    {
     "name": "stdout",
     "output_type": "stream",
     "text": [
      "Test Error Rate (KNN): 0.25 \n",
      "F1 Score (KNN): 0.7373679255152211\n"
     ]
    }
   ],
   "source": [
    "# Using final knn_classifier to predict labels in the test dataset\n",
    "predicted_test_labels_knn = final_knn_classifier.predict(X_TEST)\n",
    "\n",
    "# calculating the proportion of misclassified labels i.e. test error rate\n",
    "test_set_error_knn = np.mean(predicted_test_labels_knn != docs_test_labels)\n",
    "\n",
    "# calculating the f1 score on test data\n",
    "test_set_f1_knn = f1_score(docs_test_labels, predicted_test_labels_knn, average='weighted')\n",
    "\n",
    "# printing test error rate from KNN classifier \n",
    "print(\"Test Error Rate (KNN):\", test_set_error_knn, \"\\nF1 Score (KNN):\", test_set_f1_knn)"
   ]
  },
  {
   "cell_type": "code",
   "execution_count": 12,
   "metadata": {},
   "outputs": [
    {
     "name": "stdout",
     "output_type": "stream",
     "text": [
      "Test Error Rate (RF): 0.1 \n",
      "F1 Score (RF): 0.8997596153846152\n"
     ]
    }
   ],
   "source": [
    "# Using final rf_classifier to predict labels in the test dataset\n",
    "predicted_test_labels_rf = final_rf_classifier.predict(X_TEST)\n",
    "\n",
    "# calculating the proportion of misclassified labels i.e. test error rate\n",
    "test_set_error_rf = np.mean(predicted_test_labels_rf != docs_test_labels)\n",
    "\n",
    "# calculating the f1 score on test data\n",
    "test_set_f1_rf = f1_score(docs_test_labels, predicted_test_labels_rf, average='weighted')\n",
    "\n",
    "# printing test error rate and f1 score from RF classifier\n",
    "print(\"Test Error Rate (RF):\", test_set_error_rf, \"\\nF1 Score (RF):\", test_set_f1_rf)"
   ]
  },
  {
   "cell_type": "code",
   "execution_count": 13,
   "metadata": {},
   "outputs": [
    {
     "data": {
      "image/png": "[encoded data removed]",
      "text/plain": [
       "<Figure size 720x720 with 1 Axes>"
      ]
     },
     "metadata": {
      "needs_background": "light"
     },
     "output_type": "display_data"
    }
   ],
   "source": [
    "%matplotlib inline\n",
    "import matplotlib.pyplot as plt\n",
    "from sklearn.metrics import roc_curve\n",
    "\n",
    "#set up plotting area\n",
    "plt.figure(figsize=(10,10))\n",
    "\n",
    "# plotting ROC curve for KNN\n",
    "y_score = final_knn_classifier.predict_proba(X_TEST)[:, 1]\n",
    "fpr, tpr, thresholds = roc_curve(docs_test_labels, y_score, pos_label=1)\n",
    "auc = np.trapz(tpr, fpr)\n",
    "plt.plot(fpr, tpr, linestyle='-', alpha=0.5, color= 'C1', label=\"KNN, AUC:\" + str(round (auc, 2)))\n",
    "\n",
    "# plotting ROC curve for Random Forests\n",
    "y_score = final_rf_classifier.predict_proba(X_TEST)[:, 1]\n",
    "fpr, tpr, thresholds = roc_curve(docs_test_labels, y_score, pos_label=1)\n",
    "auc = np.trapz(tpr, fpr)\n",
    "plt.plot(fpr, tpr, linestyle='-', alpha=0.5, color= 'C2', label=\"RF, AUC:\" + str(round(auc, 2)))\n",
    "\n",
    "# adding details\n",
    "plt.title(\"ROC curve\")\n",
    "plt.legend()\n",
    "plt.xlabel(\"FPR\")\n",
    "plt.ylabel(\"TPR\")\n",
    "plt.grid()\n",
    "plt.show() "
   ]
  },
  {
   "cell_type": "code",
   "execution_count": 14,
   "metadata": {},
   "outputs": [
    {
     "data": {
      "image/png": "[encoded data removed]",
      "text/plain": [
       "<Figure size 720x720 with 1 Axes>"
      ]
     },
     "metadata": {
      "needs_background": "light"
     },
     "output_type": "display_data"
    }
   ],
   "source": [
    "from sklearn.metrics import precision_recall_curve\n",
    "import statistics as stat\n",
    "\n",
    "#set up plotting area\n",
    "plt.figure(figsize=(10,10))\n",
    "\n",
    "# calculate precision, recall for KNN\n",
    "y_score = final_knn_classifier.predict_proba(X_TEST)[:, 1]\n",
    "precision, recall, thresholds = precision_recall_curve(docs_test_labels, y_score)\n",
    "plt.plot(recall, precision, linestyle='-', alpha=0.5, color= 'C1', label=\"KNN, Avg Precision:\" + \n",
    "         str(round(stat.mean(precision), 2)))\n",
    "\n",
    "# calculate precision, recall for RF\n",
    "y_score = final_rf_classifier.predict_proba(X_TEST)[:, 1]\n",
    "precision, recall, thresholds = precision_recall_curve(docs_test_labels, y_score)\n",
    "plt.plot(recall, precision, linestyle='-', alpha=0.5, color= 'C2', label=\"RF, Avg Precision:\" + \n",
    "         str(round(stat.mean(precision), 2)))\n",
    "\n",
    "# adding details\n",
    "plt.title('Precision-Recall Curve')\n",
    "plt.legend()\n",
    "plt.xlabel(\"Recall\")\n",
    "plt.ylabel(\"Precision\")\n",
    "plt.grid()\n",
    "plt.show() \n",
    "         \n",
    "# Reference: https://www.statology.org/precision-recall-curve-python/"
   ]
  },
  {
   "cell_type": "markdown",
   "metadata": {},
   "source": [
    "1. Since the classes (spam and ham) are imbalanced, using the Precision-Recall curve would make sense here. Moreover, the cost of false positives i.e. misclassifying a ham email as spam and losing out on critical information is probably more damaging than false negatives i.e. having a few spam emails in inbox. Therefore, using Precision i.e. (TP/ TP + FP) as a metric of evaluation makes intuitive sense here.\n",
    "\n",
    "2. Based on the ROC curve, Random Forests is a better classifier than KNN since it's AUC appears to be much higher, thereby indicating better ability to distinguish between the two classes. Similarly, based on the Precision-Recall curve, Random Forests still emerges as the better classifier since its average Precision is much higher."
   ]
  }
 ],
 "metadata": {
  "kernelspec": {
   "display_name": "Python 3",
   "language": "python",
   "name": "python3"
  },
  "language_info": {
   "codemirror_mode": {
    "name": "ipython",
    "version": 3
   },
   "file_extension": ".py",
   "mimetype": "text/x-python",
   "name": "python",
   "nbconvert_exporter": "python",
   "pygments_lexer": "ipython3",
   "version": "3.8.3"
  }
 },
 "nbformat": 4,
 "nbformat_minor": 2
}
