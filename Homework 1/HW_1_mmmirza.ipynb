{
 "cells": [
  {
   "cell_type": "markdown",
   "metadata": {},
   "source": [
    "# Unstructured Data Analytics HW1\n",
    "\n",
    "Name: Mohammad Manzoor Hassan Mirza\n",
    " \n",
    "Andrew ID: mmmirza\n",
    "\n",
    "Collaborators (if none, say \"none\"; do *not* leave this blank): none\n",
    "\n",
    "Reminder: you should not be sharing code."
   ]
  },
  {
   "cell_type": "markdown",
   "metadata": {},
   "source": [
    "**Warning: make sure your compute environment is set up first.** This homework assignment assumes that you have already installed Anaconda Python 3 and spaCy. Instructions for installing these are part of the tutorial [here](https://www.andrew.cmu.edu/user/georgech/95-865/Anaconda,%20Jupyter,%20and%20spaCy%20setup%20tutorial.pdf)."
   ]
  },
  {
   "cell_type": "markdown",
   "metadata": {},
   "source": [
    "### Instructions\n",
    "1. Fill in your name, Andrew ID, and collaborators above.\n",
    "2. Fill in the code/text blocks to answer each question.\n",
    "3. Do *not* change any of the existing code provided.\n",
    "4. Run the entire notebook *before* submitting it on Canvas to make sure that the code actually runs without errors. (**Important**: Any code cells that you have entered code for but did not actually execute will be disregarded, so please be sure to actually run your code first and make sure it runs without errors! We may re-run a subset of your code for grading purposes.)\n",
    "5. Be careful about where you save data for use with this Jupyter notebook (more details on this later)."
   ]
  },
  {
   "cell_type": "markdown",
   "metadata": {},
   "source": [
    "### [Problem 1] Basic Text Analysis [45 pts]\n",
    "\n",
    "This problem involves a mix of Python review (loops, conditionals, counters/dictionaries, sorting) and learning to work with a sizable collection of text data.\n",
    "\n",
    "You will be looking at a phenomenon of \"natural languages\" (i.e., human languages, such as English) called *Zipf's law*, which relates how frequently a word occurs in a language to its \"rank\" (the word with rank 1 is the most frequently occurring word, the word with rank 2 is the second most frequently occurring word, etc). Roughly speaking, the word with rank 1 appears twice as likely as the word with rank 2, and the three times as likely as the word with rank 3, and so forth. (Some details on Zipf's law can be found on [Wikipedia](https://en.wikipedia.org/wiki/Zipf%27s_law).) In this problem, you are going to check whether Zipf's law holds for a real dataset of text documents.\n",
    "\n",
    "The dataset we look at is a collection of the 100 most popular books downloaded from the [Gutenburg Project](https://www.gutenberg.org/browse/scores/top). These 100 books form the corpus that we consider for this problem. Each file contains the text of a book. We will read in all 100 books.\n",
    "\n",
    "Note: Please *do not* change the folder name or the path, and make sure you use a relative path (e.g. './HW1_Dataset/*filename*) when reading the files. When grading your homework, we will put your Jupyter notebook file and the dataset in the same folder, and run your code. **You will not receive points for this problem if your code fails to load the data.**\n",
    "\n",
    "Hint: To list all files that match a certain pattern, you can use the `glob` package. Here's an example usage:\n",
    "\n",
    "```python\n",
    "import glob\n",
    "print(glob.glob('./HW1_Dataset/*.txt'))\n",
    "```\n",
    "\n",
    "**(a) Warm-up/basic Python review [15 pts across subparts].** This part serves as a warm-up, getting you familiar with the kind of code we will be writing in this class. Note that throughout part (a), your code should **not** be using spaCy.\n",
    "\n",
    "**Subpart i [5 pts].** Write a loop that iterates through all 100 books; for each book, print out its corresponding file name and also how long the book is in terms of string length (meaning that if we load in the book as a string, we compute the length of the string using the built-in Python function `len`; this is just counting the number of characters).\n",
    "\n",
    "**Please do not actually print out the contents of each book since many of the books are extremely long, and by printing out all the books' contents, you'll end up creating a Jupyter notebook that has a massive file size.**\n",
    "\n",
    "Hint: When debugging your code, you may want to first make sure your code runs on a few of the books rather than all 100 (for example, you can start by only having 3 of the text files in `HW1_Dataset`). Once you're confident that your solution is correct on a few text files, then run on all of them! This is a standard approach to debugging code that is meant to handle large datasets.\n",
    "\n",
    "Your output should look like (although there should be 100 books rather than 3 as shown below; also, the ordering of the books might be different on your machine):\n",
    "\n",
    "```\n",
    "./HW1_Dataset/War and Peace by graf Leo Tolstoy (251).txt 3227580\n",
    "./HW1_Dataset/Democracy in America — Volume 1 by Alexis de Tocqueville (147).txt 1148435\n",
    "./HW1_Dataset/Frankenstein; Or, The Modern Prometheus by Mary Wollstonecraft Shelley (501).txt 441034\n",
    "```"
   ]
  },
  {
   "cell_type": "code",
   "execution_count": 1,
   "metadata": {},
   "outputs": [
    {
     "name": "stdout",
     "output_type": "stream",
     "text": [
      "./HW1_Dataset/A Christmas Carol in Prose; Being a Ghost Story of Christmas by Charles Dickens (265).txt 177758\n",
      "./HW1_Dataset/A History of Spanish Literature by James Fitzmaurice-Kelly (109).txt 765918\n",
      "./HW1_Dataset/A Modest Proposal by Jonathan Swift (233).txt 38966\n",
      "./HW1_Dataset/A Study in Scarlet by Arthur Conan Doyle (163).txt 262340\n",
      "./HW1_Dataset/A Tale of Two Cities by Charles Dickens (425).txt 776702\n",
      "./HW1_Dataset/Adventures of Huckleberry Finn by Mark Twain (401).txt 593962\n",
      "./HW1_Dataset/Alice in Wonderland by Lewis Carroll and Alice Gerstenberg (126).txt 104079\n",
      "./HW1_Dataset/Alice's Adventures in Wonderland by Lewis Carroll (564).txt 163817\n",
      "./HW1_Dataset/Anne of Green Gables by L. M.  Montgomery (114).txt 580635\n",
      "./HW1_Dataset/Autobiography of Benjamin Franklin by Benjamin Franklin (247).txt 458600\n",
      "./HW1_Dataset/Beowulf An Anglo-Saxon Epic Poem (403).txt 292953\n",
      "./HW1_Dataset/Beyond Good and Evil by Friedrich Wilhelm Nietzsche (120).txt 402273\n",
      "./HW1_Dataset/Candide by Voltaire (180).txt 224924\n",
      "./HW1_Dataset/Carmilla by Joseph Sheridan Le Fanu (135).txt 176408\n",
      "./HW1_Dataset/Common Sense by Thomas Paine (297).txt 145353\n",
      "./HW1_Dataset/Democracy in America ΓÇö Volume 1 by Alexis de Tocqueville (147).txt 1148435\n",
      "./HW1_Dataset/Dracula by Bram Stoker (461).txt 867141\n",
      "./HW1_Dataset/Dubliners by James Joyce (219).txt 389199\n",
      "./HW1_Dataset/Emma by Jane Austen (166).txt 902390\n",
      "./HW1_Dataset/Essays by Ralph Waldo Emerson by Ralph Waldo Emerson (239).txt 557197\n",
      "./HW1_Dataset/Essays of Michel de Montaigne ΓÇö Complete by Michel de Montaigne (205).txt 3033575\n",
      "./HW1_Dataset/Et dukkehjem. English by Henrik Ibsen (557).txt 161241\n",
      "./HW1_Dataset/Frankenstein; Or, The Modern Prometheus by Mary Wollstonecraft Shelley (501).txt 441034\n",
      "./HW1_Dataset/Great Expectations by Charles Dickens (293).txt 1013450\n",
      "./HW1_Dataset/Grimms' Fairy Tales by Jacob Grimm and Wilhelm Grimm (429).txt 540241\n",
      "./HW1_Dataset/Gulliver's Travels into Several Remote Nations of the World by Jonathan Swift (136).txt 600105\n",
      "./HW1_Dataset/Heart of Darkness by Joseph Conrad (213).txt 229835\n",
      "./HW1_Dataset/Hedda Gabler by Henrik Ibsen (123).txt 193875\n",
      "./HW1_Dataset/Il Principe. English by Niccolo╠Ç Machiavelli (428) (Unicode Encoding Conflict).txt 300788\n",
      "./HW1_Dataset/Jane Eyre_ An Autobiography by Charlotte Bronte╠ê (290) (Unicode Encoding Conflict).txt 1049267\n",
      "./HW1_Dataset/Leaves of Grass by Walt Whitman (164).txt 757361\n",
      "./HW1_Dataset/Les Mise╠ürables by Victor Hugo (165) (Unicode Encoding Conflict).txt 3254333\n",
      "./HW1_Dataset/Leviathan by Thomas Hobbes (417).txt 1231784\n",
      "./HW1_Dataset/Liberalism by L. T.  Hobhouse (119).txt 305345\n",
      "./HW1_Dataset/Metamorphosis by Franz Kafka (483).txt 139056\n",
      "./HW1_Dataset/Moby Dick; Or, The Whale by Herman Melville (413).txt 1238569\n",
      "./HW1_Dataset/My Fifteen Lost Years by Florence Elizabeth Maybrick (499).txt 383694\n",
      "./HW1_Dataset/My Secret Life, Volumes I. to III. by Anonymous (157).txt 1378627\n",
      "./HW1_Dataset/Narrative of the Captivity and Restoration of Mrs. Mary Rowlandson by Mary White Rowlandson (222).txt 123784\n",
      "./HW1_Dataset/Narrative of the Life of Frederick Douglass, an American Slave by Frederick Douglass (243).txt 244263\n",
      "./HW1_Dataset/On Liberty by John Stuart Mill (116).txt 325922\n",
      "./HW1_Dataset/Outpost in the Wilderness_ Fort Wayne, 1706-1828 by Charles Poinsatte (161).txt 363234\n",
      "./HW1_Dataset/Persuasion by Jane Austen (2234).txt 486251\n",
      "./HW1_Dataset/Peter Pan by J. M.  Barrie (274).txt 278194\n",
      "./HW1_Dataset/Prestuplenie i nakazanie. English by Fyodor Dostoyevsky (160).txt 1154508\n",
      "./HW1_Dataset/Pride and Prejudice by Jane Austen (1003).txt 704192\n",
      "./HW1_Dataset/Robert Greene by Robert Greene (126).txt 760655\n",
      "./HW1_Dataset/Semmering 1912 by Peter Altenberg (221).txt 264946\n",
      "./HW1_Dataset/Sense and Sensibility by Jane Austen (177).txt 693095\n",
      "./HW1_Dataset/Siddhartha by Hermann Hesse (216).txt 236855\n",
      "./HW1_Dataset/Songs of Innocence, and Songs of Experience by William Blake (166).txt 51724\n",
      "./HW1_Dataset/The Adventures of Sherlock Holmes by Arthur Conan Doyle (447).txt 581864\n",
      "./HW1_Dataset/The Adventures of Tom Sawyer by Mark Twain (371).txt 412712\n",
      "./HW1_Dataset/The Awakening, and Selected Short Stories by Kate Chopin (192).txt 378936\n",
      "./HW1_Dataset/The Boy Fortune Hunters in China by L. Frank  Baum (215).txt 324452\n",
      "./HW1_Dataset/The Boy Fortune Hunters in the South Seas by L. Frank  Baum (150).txt 266166\n",
      "./HW1_Dataset/The Complete Works of William Shakespeare by William Shakespeare (132).txt 5465100\n",
      "./HW1_Dataset/The Confessions of St. Augustine by Bishop of Hippo Saint Augustine (157).txt 622405\n",
      "./HW1_Dataset/The Count of Monte Cristo, Illustrated by Alexandre Dumas (160).txt 2643849\n",
      "./HW1_Dataset/The Divine Comedy by Dante, Illustrated by Dante Alighieri (119).txt 2161\n",
      "./HW1_Dataset/The Faery Queen and Her Knights by Alfred John Church (177).txt 447320\n",
      "./HW1_Dataset/The Federalist Papers by Alexander Hamilton and John Jay and James Madison (116).txt 1167141\n",
      "./HW1_Dataset/The Guardsman by Homer Greene (175).txt 412900\n",
      "./HW1_Dataset/The History of the Peloponnesian War by Thucydides (122).txt 1200021\n",
      "./HW1_Dataset/The Hound of the Baskervilles by Arthur Conan Doyle (223).txt 339188\n",
      "./HW1_Dataset/The Iliad by Homer (256).txt 1175588\n",
      "./HW1_Dataset/The Importance of Being Earnest_ A Trivial Comedy for Serious People by Oscar Wilde (454).txt 138887\n",
      "./HW1_Dataset/The Innocents Abroad by Mark Twain (108).txt 1126278\n",
      "./HW1_Dataset/The Interesting Narrative of the Life of Olaudah Equiano, Or Gustavus Vassa, The African by Equiano (114).txt 471165\n",
      "./HW1_Dataset/The Kama Sutra of Vatsyayana by Vatsyayana (172).txt 351664\n",
      "./HW1_Dataset/The King James Version of the Bible (132).txt 4351846\n",
      "./HW1_Dataset/The Law of Storms by John Wilson Ross (110).txt 65264\n",
      "./HW1_Dataset/The Legend of Sleepy Hollow by Washington Irving (399).txt 89237\n",
      "./HW1_Dataset/The Life and Adventures of Robinson Crusoe by Daniel Defoe (126).txt 642909\n",
      "./HW1_Dataset/The Mysterious Affair at Styles by Agatha Christie (115).txt 340770\n",
      "./HW1_Dataset/The Odyssey by Homer (124).txt 697404\n",
      "./HW1_Dataset/The Peddler Spy by W. J. Hamilton (356).txt 197390\n",
      "./HW1_Dataset/The Philosophy of Spiritual Activity by Rudolf Steiner (144).txt 545031\n",
      "./HW1_Dataset/The Picture of Dorian Gray by Oscar Wilde (282).txt 453169\n",
      "./HW1_Dataset/The Republic by Plato (246).txt 1214387\n",
      "./HW1_Dataset/The Romance of Lust_ A Classic Victorian erotic novel by Anonymous (294).txt 1051148\n",
      "./HW1_Dataset/The Scarlet Letter by Nathaniel Hawthorne (211).txt 506975\n",
      "./HW1_Dataset/The Souls of Black Folk by W. E. B.  Du Bois (172).txt 421336\n",
      "./HW1_Dataset/The Strange Case of Dr. Jekyll and Mr. Hyde by Robert Louis Stevenson (158).txt 158048\n",
      "./HW1_Dataset/The Strange Case of Dr. Jekyll and Mr. Hyde by Robert Louis Stevenson (170).txt 159542\n",
      "./HW1_Dataset/The Time Machine by H. G.  Wells (137).txt 198281\n",
      "./HW1_Dataset/The Tragedy of Romeo and Juliet by William Shakespeare (131).txt 174128\n",
      "./HW1_Dataset/The Tragical History of Doctor Faustus by Christopher Marlowe (144).txt 143736\n",
      "./HW1_Dataset/The Turn of the Screw by Henry James (185).txt 248089\n",
      "./HW1_Dataset/The Wendigo by Algernon Blackwood (174).txt 127464\n",
      "./HW1_Dataset/The Wonderful Wizard of Oz by L. Frank  Baum (150).txt 227654\n",
      "./HW1_Dataset/The Works of Edgar Allan Poe ΓÇö Volume 2 by Edgar Allan Poe (137).txt 569966\n",
      "./HW1_Dataset/The Yellow Wallpaper by Charlotte Perkins Gilman (462).txt 50841\n",
      "./HW1_Dataset/Through the Looking-Glass by Lewis Carroll (134).txt 181667\n",
      "./HW1_Dataset/Treasure Island by Robert Louis Stevenson (236).txt 383675\n",
      "./HW1_Dataset/Ulysses by James Joyce (282).txt 1534140\n",
      "./HW1_Dataset/Uncle Tom's Cabin by Harriet Beecher Stowe (108).txt 1025501\n",
      "./HW1_Dataset/Walden, and On The Duty Of Civil Disobedience by Henry David Thoreau (180).txt 656207\n",
      "./HW1_Dataset/War and Peace by graf Leo Tolstoy (251).txt 3227580\n",
      "./HW1_Dataset/Wuthering Heights by Emily Bronte╠ê (179) (Unicode Encoding Conflict).txt 669150\n"
     ]
    }
   ],
   "source": [
    "# import required module\n",
    "import os\n",
    "\n",
    "# setting the path to the folder containing all files\n",
    "path = './HW1_Dataset/'\n",
    "\n",
    "# iterate over files in that path\n",
    "for filename in os.listdir(path):\n",
    "    # setting the path to a specific file as a string\n",
    "    path_file = os.path.join(path, filename)\n",
    "    # opening a specific file f \n",
    "    with open(path_file, encoding = 'utf8') as f:\n",
    "    # reading the file in as a string\n",
    "        data = f.read()\n",
    "    print(path_file, len(data))"
   ]
  },
  {
   "cell_type": "markdown",
   "metadata": {},
   "source": [
    "**Subpart ii [5 pts].** Copy and paste your code from **subpart i** into the code cell below. Then in the code cell below, modify the code so that it prints out the top 15 longest books (in terms of raw string length, which is what you had already computed). In particular, please write your code so that the printout is of the following format:\n",
    "\n",
    "```\n",
    "1. <number of characters in longest text file> <filename of longest text file>\n",
    "2. <number of characters in 2nd longest text file> <filename of 2nd longest text file>\n",
    "...\n",
    "15. <number of characters in 15th longest text file> <filename of 15th longest text file>\n",
    "```\n",
    "\n",
    "Note: only print out information for the top 15 books in the format above; please do not repeat printing what we asked you to print in **subpart i**."
   ]
  },
  {
   "cell_type": "code",
   "execution_count": 5,
   "metadata": {},
   "outputs": [
    {
     "name": "stdout",
     "output_type": "stream",
     "text": [
      "1. 5465100 ./HW1_Dataset/The Complete Works of William Shakespeare by William Shakespeare (132).txt\n",
      "2. 4351846 ./HW1_Dataset/The King James Version of the Bible (132).txt\n",
      "3. 3254333 ./HW1_Dataset/Les Mise╠ürables by Victor Hugo (165) (Unicode Encoding Conflict).txt\n",
      "4. 3227580 ./HW1_Dataset/War and Peace by graf Leo Tolstoy (251).txt\n",
      "5. 3033575 ./HW1_Dataset/Essays of Michel de Montaigne ΓÇö Complete by Michel de Montaigne (205).txt\n",
      "6. 2643849 ./HW1_Dataset/The Count of Monte Cristo, Illustrated by Alexandre Dumas (160).txt\n",
      "7. 1534140 ./HW1_Dataset/Ulysses by James Joyce (282).txt\n",
      "8. 1378627 ./HW1_Dataset/My Secret Life, Volumes I. to III. by Anonymous (157).txt\n",
      "9. 1238569 ./HW1_Dataset/Moby Dick; Or, The Whale by Herman Melville (413).txt\n",
      "10. 1231784 ./HW1_Dataset/Leviathan by Thomas Hobbes (417).txt\n",
      "11. 1214387 ./HW1_Dataset/The Republic by Plato (246).txt\n",
      "12. 1200021 ./HW1_Dataset/The History of the Peloponnesian War by Thucydides (122).txt\n",
      "13. 1175588 ./HW1_Dataset/The Iliad by Homer (256).txt\n",
      "14. 1167141 ./HW1_Dataset/The Federalist Papers by Alexander Hamilton and John Jay and James Madison (116).txt\n",
      "15. 1154508 ./HW1_Dataset/Prestuplenie i nakazanie. English by Fyodor Dostoyevsky (160).txt\n"
     ]
    }
   ],
   "source": [
    "# creating an empty dictionary with filename as key and # of string characters as value\n",
    "dict_comb = {}\n",
    "\n",
    "# iterate over files in that path\n",
    "for filename in os.listdir(path):\n",
    "    # setting the path to a specific file as a string\n",
    "    path_file = os.path.join(path, filename)\n",
    "    # opening a specific file f\n",
    "    with open(path_file, encoding = 'utf-8') as f:\n",
    "    # reading the file in as a string\n",
    "        data = f.read()\n",
    "    dict_comb[path_file] = len(data)\n",
    "\n",
    "# sorting the dictionary based on values in a descending order\n",
    "sorted_dict_comb = {key: value for key, value in sorted(dict_comb.items(), reverse = True, key = lambda item:item[1])}\n",
    "\n",
    "# saving the dictionary as a list of tuples\n",
    "first_15 = list(sorted_dict_comb.items())[:15]\n",
    "\n",
    "# printing the length of the longest 15 files and their filenames\n",
    "for i in range(len(first_15)):\n",
    "    print(str(i + 1) + '.', first_15[i][1], first_15[i][0])"
   ]
  },
  {
   "cell_type": "markdown",
   "metadata": {},
   "source": [
    "**Subpart iii [5 pts].** You should find that some of the books are quite long. Processing very long books will be problematic with spaCy, so we will want to chop up long books into pieces. Note that later on in the course, we shall see that chopping up large amounts of data into small pieces or \"batches\" is in fact quite common in machine learning since for massive datasets, we often cannot store them in their entirety on a CPU or GPU for processing all at once.\n",
    "\n",
    "As a toy example, suppose that a book's text is `'cat dog shark spam eggs'` and we want to split it up into batches where each batch has at most 3 words. Then we could split up the book's text into two batches/pieces: `'cat dog shark'` and `'spam eggs'`.\n",
    "\n",
    "We have provided code for you to do this below."
   ]
  },
  {
   "cell_type": "code",
   "execution_count": 6,
   "metadata": {},
   "outputs": [
    {
     "name": "stdout",
     "output_type": "stream",
     "text": [
      "['cat dog shark', 'spam eggs']\n"
     ]
    }
   ],
   "source": [
    "import numpy as np\n",
    "\n",
    "def split_into_batches(book_text, max_num_words_per_batch):\n",
    "    words_split_on_spaces = book_text.split(' ')\n",
    "    num_book_pieces = int(np.ceil(len(words_split_on_spaces) / max_num_words_per_batch))\n",
    "    batches = []\n",
    "    for piece_idx in range(num_book_pieces):\n",
    "        start_idx = piece_idx * max_num_words_per_batch\n",
    "        end_idx = (piece_idx + 1) * max_num_words_per_batch\n",
    "        if end_idx > len(words_split_on_spaces):\n",
    "            end_idx = len(words_split_on_spaces)\n",
    "        book_piece = ' '.join(words_split_on_spaces[start_idx:end_idx])\n",
    "        batches.append(book_piece)\n",
    "    return batches\n",
    "\n",
    "print(split_into_batches('cat dog shark spam eggs', 3))"
   ]
  },
  {
   "cell_type": "markdown",
   "metadata": {},
   "source": [
    "Now write a loop that goes through all 100 books again. However, for each book, split it up into batches so that each batch has at most 10000 words. In this case, how many batches are there total across all 100 books? Please write code that computes this number of batches. Your code should print out the following (with the correct total number of batches):\n",
    "\n",
    "```\n",
    "Total number of batches: <total number of batches across all 100 books>\n",
    "```"
   ]
  },
  {
   "cell_type": "code",
   "execution_count": 8,
   "metadata": {},
   "outputs": [
    {
     "name": "stdout",
     "output_type": "stream",
     "text": [
      "Total number of batches:  1246\n"
     ]
    }
   ],
   "source": [
    "# a list of sub-lists where each sub-list contains the batches for a book\n",
    "all_books = []\n",
    "\n",
    "# iterate over files in that path\n",
    "for filename in os.listdir(path):\n",
    "    # setting the path to a specific file as a string\n",
    "    path_file = os.path.join(path, filename)\n",
    "    # opening a specific file f \n",
    "    with open(path_file, encoding = 'utf-8') as f:\n",
    "    # reading the file in as a string\n",
    "        data = f.read()\n",
    "    # setting a new variable name to store batches for each book\n",
    "    batches = split_into_batches(data, 10000)\n",
    "    all_books.append(batches)\n",
    "    \n",
    "# verifying the number of words in the first batch of the first book by splitting that batch i.e. a string into words\n",
    "# print(len(all_books[0][0].split(' ')))\n",
    "    \n",
    "# setting the base variable to count the number of batches across all 100 books\n",
    "total_batches = 0\n",
    "\n",
    "# looping through each sub_list i.e. batches for each book\n",
    "for i in all_books:\n",
    "    total_batches += len(i)\n",
    "\n",
    "print ('Total number of batches: ', total_batches)"
   ]
  },
  {
   "cell_type": "markdown",
   "metadata": {},
   "source": [
    "**(b) [10 pts]** Now we will finally use spaCy. Note that for this problem, you don't actually need `spaCy`'s named entity recognition or grammatical parsing. Turning these elements off when you instantiate the `nlp` object can substantially speed up your code. To make sure these are off when instantiating the `nlp` object, call: \n",
    "\n",
    "```python\n",
    "nlp = spacy.load('en_core_web_sm', disable=['ner', 'parser'])\n",
    "```\n",
    "\n",
    "**Throughout this problem, do not remove stopwords.**\n",
    "\n",
    "Build a term frequency (raw counts) table that is for all 100 books. Specifically, building on your solution to part (a)-subpart iii, read in a single book at a time and for each book, do the following:\n",
    "\n",
    "  1. Split it up into batches where each batch has at most 10000 words.\n",
    "  2. For each batch:\n",
    "    1. Process the batch by separating and lemmatizing the words\n",
    "    2. Count the number of times each lemma appears and add these to the frequency table. For simplicity, **do not convert lemmas to lowercase**. (Note that we use raw counts as the \"frequency\"--do not do any division.) Also, as we explain below, we will only count lemmas that are alphanumeric.\n",
    "\n",
    "Note that just as we had said in part (a): do **not** print out the complete contents of every book since doing so will result in a Jupyter notebook file that is massive.\n",
    "\n",
    "After looping through all 100 books, you should have the term frequency table for the entire corpus (importantly, the frequency table should not just be for a single book; it should be for all 100 books). Sort the table and print the top 50 most frequent words, along with their frequencies and ranks. Don't worry about ties (for example, if multiple things have the same frequency, it's fine if your solution breaks ties arbitrarily in the sorting).\n",
    "\n",
    "Note: When counting the lemmas, only include lemmas that consist of alphabetic letters (a-z and A-Z). You can do this with what's called a *regular expression*. For example, to check whether the words \"will.i.am\" or \"Tesla\" are alphabetic, you would do the following:\n",
    "\n",
    "```python\n",
    "import re  # regular expression package\n",
    "if re.match('[a-zA-Z]+$', 'will.i.am'):\n",
    "    print('will.i.am consists only of alphabetic letters!')\n",
    "if re.match('[a-zA-Z]+$', 'Tesla'):\n",
    "    print('tesla consists only of alphabetic letters!')\n",
    "```"
   ]
  },
  {
   "cell_type": "code",
   "execution_count": 12,
   "metadata": {},
   "outputs": [
    {
     "name": "stdout",
     "output_type": "stream",
     "text": [
      "Rank      Lemma     Count     \n",
      "1         the       702301    \n",
      "2         be        436045    \n",
      "3         and       435432    \n",
      "4         of        386343    \n",
      "5         to        324345    \n",
      "6         I         254952    \n",
      "7         a         232719    \n",
      "8         in        204234    \n",
      "9         he        193507    \n",
      "10        that      158935    \n",
      "11        have      158148    \n",
      "12        it        135414    \n",
      "13        not       112312    \n",
      "14        his       108537    \n",
      "15        you       105094    \n",
      "16        with      101226    \n",
      "17        they      96202     \n",
      "18        for       95261     \n",
      "19        as        90714     \n",
      "20        she       78940     \n",
      "21        but       75598     \n",
      "22        my        74019     \n",
      "23        do        68716     \n",
      "24        at        64947     \n",
      "25        on        62798     \n",
      "26        this      61222     \n",
      "27        by        61168     \n",
      "28        we        60268     \n",
      "29        which     58727     \n",
      "30        all       58724     \n",
      "31        say       58281     \n",
      "32        from      50095     \n",
      "33        so        47925     \n",
      "34        or        47806     \n",
      "35        her       42440     \n",
      "36        one       41089     \n",
      "37        man       39734     \n",
      "38        no        38422     \n",
      "39        their     38393     \n",
      "40        what      37759     \n",
      "41        there     37187     \n",
      "42        will      36737     \n",
      "43        if        34897     \n",
      "44        go        33666     \n",
      "45        when      33587     \n",
      "46        an        32483     \n",
      "47        come      32032     \n",
      "48        see       31994     \n",
      "49        would     31287     \n",
      "50        who       30929     \n"
     ]
    }
   ],
   "source": [
    "# import relevant libraries\n",
    "import spacy\n",
    "import regex as re\n",
    "from collections import Counter\n",
    "\n",
    "# turning off entity recognition and grammatical parsing while loading spacy\n",
    "nlp = spacy.load('en_core_web_sm', disable=['ner', 'parser'])\n",
    "\n",
    "# counter dictionary, with the key as the word and the value as the frequency count\n",
    "histogram = Counter()\n",
    "\n",
    "# iterate over files in that path\n",
    "for filename in os.listdir(path): \n",
    "    # setting the path to a specific file as a string\n",
    "    path_file = os.path.join(path, filename)\n",
    "    # opening a specific file f \n",
    "    with open(path_file, encoding = 'utf-8') as f:\n",
    "    # read the file in as a string\n",
    "        data = f.read()\n",
    "    # setting a new variable name to store batches for each book\n",
    "    batches = split_into_batches(data, 10000)\n",
    "    # processing each batch separately\n",
    "    for batch in batches:\n",
    "        # tokenization i.e. separation of words\n",
    "        parsed_text = nlp(batch)\n",
    "        # looping through each token in the parsed_text object\n",
    "        for token in parsed_text:\n",
    "            # lemmatizing the words i.e. finding their basic representation (lower case)\n",
    "            lemma = token.lemma_\n",
    "            # filtering only lemmas that consist of alphabetic letters\n",
    "            if re.match('[a-zA-Z]+$', lemma):\n",
    "            # adding it in the dictionary i.e. histogram \n",
    "                histogram[lemma] += 1\n",
    "\n",
    "# getting the most common lemmas in the histogram\n",
    "sorted_lemma_count_pairs = histogram.most_common()\n",
    "    \n",
    "# printing the top 50 items from the list of tuples i.e. sorted_lemma_count_pairs\n",
    "print('{:<10s}{:<10s}{:<10s}'.format('Rank', 'Lemma', 'Count'))\n",
    "for rank, value in enumerate(sorted_lemma_count_pairs[:50]):\n",
    "    print('{:<10s}{:<10s}{:<10}'.format(str(rank + 1), value[0], value[1])) "
   ]
  },
  {
   "cell_type": "markdown",
   "metadata": {},
   "source": [
    "**(c) [10 pts]** Visualize the frequency table by plotting a **raw scatter plot** (put frequency as the y-axis and rank as the x-axis), and a **log-log plot** (use logarithmic scales on both the x- and y- axes). Note that this should be for all words and not only the top 50. As before, for the ranks, do not worry about ties, i.e., break ties arbitrarily."
   ]
  },
  {
   "cell_type": "code",
   "execution_count": 13,
   "metadata": {},
   "outputs": [
    {
     "data": {
      "text/plain": [
       "Text(0, 0.5, 'Raw count')"
      ]
     },
     "execution_count": 13,
     "metadata": {},
     "output_type": "execute_result"
    },
    {
     "data": {
      "image/png": "[encoded data removed]",
      "text/plain": [
       "<Figure size 576x396 with 1 Axes>"
      ]
     },
     "metadata": {
      "image/png": {
       "height": 343,
       "width": 515
      }
     },
     "output_type": "display_data"
    }
   ],
   "source": [
    "%matplotlib inline\n",
    "import matplotlib.pyplot as plt\n",
    "plt.style.use('seaborn')  # prettier plots (for example, use 'ggplot' instead of 'seaborn' for plots like in R)\n",
    "%config InlineBackend.figure_format = 'retina'  # if you use a Mac with Retina display\n",
    "\n",
    "# extracting the counts for each lemma\n",
    "counts = [count for lemma, count in sorted_lemma_count_pairs]\n",
    "# plotting the counts for each lemma along with their rank\n",
    "plt.scatter(range(1, len(counts) + 1), counts)\n",
    "plt.xlabel('Rank')\n",
    "plt.ylabel('Raw count')"
   ]
  },
  {
   "cell_type": "code",
   "execution_count": 14,
   "metadata": {},
   "outputs": [
    {
     "data": {
      "text/plain": [
       "Text(0, 0.5, 'Raw count')"
      ]
     },
     "execution_count": 14,
     "metadata": {},
     "output_type": "execute_result"
    },
    {
     "data": {
      "image/png": "[encoded data removed]",
      "text/plain": [
       "<Figure size 576x396 with 1 Axes>"
      ]
     },
     "metadata": {
      "image/png": {
       "height": 349,
       "width": 497
      }
     },
     "output_type": "display_data"
    }
   ],
   "source": [
    "# Log-log plot\n",
    "\n",
    "# plotting the counts for each lemma along with their rank\n",
    "plt.scatter(range(1, len(counts) + 1), counts)\n",
    "plt.yscale('log')\n",
    "plt.xscale('log')\n",
    "plt.xlabel('Rank')\n",
    "plt.ylabel('Raw count')"
   ]
  },
  {
   "cell_type": "markdown",
   "metadata": {},
   "source": [
    "**(d) [10 pts across subparts]** Let's now try to make sense of the very last plot in part **(c)**. Zipf's law states that term frequency is governed by a power law, i.e. the relationship between term frequency and rank can be approximated by $f(r) = cr^{-1}$, where $f(r)$ is the frequency of the term at rank $r$, $r$ is the rank of a term, and $c$ is a constant that is approximately 0.1*(corpus size) for English.\n",
    "\n",
    "Please answer the following questions:\n",
    "\n",
    "**Subpart i [3 pts].** What do you observe in the log-log plot above? Is this consist with the power law?"
   ]
  },
  {
   "cell_type": "markdown",
   "metadata": {},
   "source": [
    "The log-log plot is consistent with the power law, which states that one quantity varies as a power of another i.e. rank and raw count. The negative slope i.e. -c stays constant in the plot and corroborates the power law equation given above. "
   ]
  },
  {
   "cell_type": "markdown",
   "metadata": {},
   "source": [
    "**Subpart ii [4 pts].** Think of the corpus as a (large) unigram bag of words. Following the analogy from lecture, imagine drawing a single word from this big bag (note that we are assuming that we've lemmatized the words and also filtered out non-alphanumeric words; thus what remains in the bag are actually alphanumeric lemmas). What is the probability of drawing one of the 4 most frequent alphanumeric lemmas? What is the probability of drawing one of the 50 most frequent alphanumeric lemmas? Answer these two questions using code rather than just entering in the final answers as numbers."
   ]
  },
  {
   "cell_type": "code",
   "execution_count": 15,
   "metadata": {},
   "outputs": [
    {
     "name": "stdout",
     "output_type": "stream",
     "text": [
      "Probability of drawing one of the 4 most frequent alphanumeric lemmas:  0.162\n",
      "Probability of drawing one of the 50 most frequent alphanumeric lemmas:  0.483\n"
     ]
    }
   ],
   "source": [
    "# sum of the individual count of all lemmas (across all textbooks)\n",
    "denominator = 0\n",
    "for tup in sorted_lemma_count_pairs:\n",
    "    denominator += tup[1]\n",
    "\n",
    "# sum of the individual count of the top 4 most frequently occuring lemmas (across all textbooks)\n",
    "numerator = 0\n",
    "for tup in sorted_lemma_count_pairs[:4]:\n",
    "    numerator += tup[1]\n",
    "\n",
    "print('Probability of drawing one of the 4 most frequent alphanumeric lemmas: ', round(numerator/denominator, 3))\n",
    "\n",
    "# sum of the individual count of the top 50 most frequently occuring lemmas (across all textbooks)\n",
    "numerator = 0\n",
    "for tup in sorted_lemma_count_pairs[:50]:\n",
    "    numerator += tup[1]\n",
    "\n",
    "print('Probability of drawing one of the 50 most frequent alphanumeric lemmas: ', round(numerator/denominator, 3))"
   ]
  },
  {
   "cell_type": "markdown",
   "metadata": {},
   "source": [
    "**Subpart iii [4 pts].** What proportion of the alphanumeric lemmas occur only once? What proportion of the alphanumeric lemmas occur fewer than 10 times?"
   ]
  },
  {
   "cell_type": "code",
   "execution_count": 16,
   "metadata": {},
   "outputs": [
    {
     "name": "stdout",
     "output_type": "stream",
     "text": [
      "Occur only once:  0.447\n",
      "Occur fewer than 10 times:  0.793\n"
     ]
    }
   ],
   "source": [
    "# finding the total number of lemmas (across all books)\n",
    "denominator = len(sorted_lemma_count_pairs)\n",
    "\n",
    "# counting the number of lemmas that appear only once\n",
    "once = 0\n",
    "for tup in sorted_lemma_count_pairs:\n",
    "    if tup[1] == 1:\n",
    "        once += 1\n",
    "\n",
    "print(\"Occur only once: \", round(once/denominator, 3))\n",
    "\n",
    "# counting the number of lemmas that appear less than ten times\n",
    "fewer_than_ten = 0\n",
    "for tup in sorted_lemma_count_pairs:\n",
    "    if tup[1] <= 10:\n",
    "        fewer_than_ten += 1\n",
    "\n",
    "print(\"Occur fewer than 10 times: \", round(fewer_than_ten/denominator, 3))"
   ]
  },
  {
   "cell_type": "markdown",
   "metadata": {},
   "source": [
    "### [Problem 2] Entity Recognition and Pointwise Mutual Information (PMI) [50 pts]\n",
    "By using the entity recognition system in `spaCy`, let's identify named entities from newspaper articles. You'll be using Reuters corpus which contains more than ten thousand newspaper articles. To run the code below, you need to download the Reuters dataset. To do so, in a terminal/command line (recall that you can open a terminal from Jupyter's webpage that shows all the files, which by default is [http://localhost:8888/tree](http://localhost:8888/tree)), start up Python and enter:\n",
    "\n",
    "```python\n",
    "import nltk\n",
    "nltk.download('reuters')\n",
    "```\n",
    "\n",
    "Then proceed to the problem subparts below.\n",
    "\n",
    "Note that in this problem you will need named entity recognition but not grammatical parsing. Hence, you will want to instantiate the nlp object by calling:\n",
    "\n",
    "```python\n",
    "nlp = spacy.load('en_core_web_sm', disable=['parser'])\n",
    "```\n"
   ]
  },
  {
   "cell_type": "markdown",
   "metadata": {},
   "source": [
    "**(a) [15 pts]** Draw a bar chart in which one of the axes shows entity labels and the other shows the frequency of the corresponding label. Use the variables `reuters_nlp` and `label_counter` provided in the code below."
   ]
  },
  {
   "cell_type": "code",
   "execution_count": null,
   "metadata": {},
   "outputs": [],
   "source": [
    "# installing the reuters dataset\n",
    "import nltk\n",
    "nltk.download('reuters')"
   ]
  },
  {
   "cell_type": "code",
   "execution_count": 17,
   "metadata": {
    "scrolled": false
   },
   "outputs": [
    {
     "name": "stderr",
     "output_type": "stream",
     "text": [
      "C:\\Users\\Dell\\anaconda3\\lib\\site-packages\\spacy\\pipeline\\lemmatizer.py:211: UserWarning: [W108] The rule-based lemmatizer did not find POS annotation for one or more tokens. Check that your pipeline includes components that assign token.pos, typically 'tagger'+'attribute_ruler' or 'morphologizer'.\n",
      "  warnings.warn(Warnings.W108)\n"
     ]
    },
    {
     "data": {
      "text/plain": [
       "Text(0, 0.5, 'Raw Count')"
      ]
     },
     "execution_count": 17,
     "metadata": {},
     "output_type": "execute_result"
    },
    {
     "data": {
      "image/png": "[encoded data removed]",
      "text/plain": [
       "<Figure size 576x396 with 1 Axes>"
      ]
     },
     "metadata": {
      "image/png": {
       "height": 410,
       "width": 509
      }
     },
     "output_type": "display_data"
    }
   ],
   "source": [
    "import matplotlib.pyplot as plt\n",
    "from collections import Counter\n",
    "from nltk.corpus import reuters\n",
    "import re\n",
    "import spacy\n",
    "nlp = spacy.load('en_core_web_sm', disable=['parser', 'tagger'])\n",
    "reuters_fileids = reuters.fileids()  # hint: when first debugging, consider looking at just the first few\n",
    "reuters_nlp = [nlp(re.sub('\\s+',' ', reuters.raw(i)).strip()) for i in reuters_fileids]\n",
    "label_counter = Counter()\n",
    "\n",
    "# since each article has been parsed in as text (nlp object) and stored in the list reuters_nlp\n",
    "# we loop through each parsed text and each named entity in an article, to store its label in the dictionary\n",
    "for article in reuters_nlp:\n",
    "    for entity in article.ents:\n",
    "        label_counter[entity.label_] +=1\n",
    "\n",
    "# getting the most common labels in the label_counter\n",
    "sorted_label_count_pairs = label_counter.most_common()\n",
    "\n",
    "# extracting the counts for each label\n",
    "counts = [count for label, count in sorted_label_count_pairs]\n",
    "# extracting the labels\n",
    "labels = [label for label, count in sorted_label_count_pairs]\n",
    "\n",
    "# setting the number of bars to the length of counts, plotting the counts variable  \n",
    "plt.bar(range(len(counts)), counts)\n",
    "\n",
    "plt.xticks(range(len(labels)), labels, rotation = 90)\n",
    "plt.xlabel('Label')\n",
    "plt.ylabel('Raw Count')"
   ]
  },
  {
   "cell_type": "markdown",
   "metadata": {},
   "source": [
    "**(b) [15 pts]** Now list the top 10 most frequently occurring entities (entity text and the number of occurence) with label `ORG` (organization). Separately list the top 10 most frequently occurring entities with label `GPE` (geopolitical entity such as countries, cities, states) respectively. **In both cases, please convert the entity names to lowercase first before computing the top 10.**\n",
    "\n",
    "Here, when counting the (raw count) frequency, we need to count how many articles have an entity with the desired property. For every article, we add 1 if the article has the entity and 0 otherwise."
   ]
  },
  {
   "cell_type": "code",
   "execution_count": 18,
   "metadata": {},
   "outputs": [
    {
     "name": "stdout",
     "output_type": "stream",
     "text": [
      "\n",
      "Top 10 Most Frequently Occuring Entities with ORG Label\n",
      "reuters : 447\n",
      "the securities and exchange commission : 249\n",
      "ec : 237\n",
      "treasury : 222\n",
      "fed : 209\n",
      "usda : 181\n",
      "the u.s. agriculture department : 168\n",
      "the bank of england : 142\n",
      "congress : 136\n",
      "opec : 125\n",
      "\n",
      "Top 10 Most Frequently Occuring Entities with GPE Label\n",
      "u.s. : 1674\n",
      "japan : 575\n",
      "the united states : 381\n",
      "u.k. : 305\n",
      "canada : 304\n",
      "new york : 256\n",
      "west germany : 237\n",
      "washington : 233\n",
      "london : 211\n",
      "brazil : 195\n"
     ]
    }
   ],
   "source": [
    "entity_counter_ORG = Counter()\n",
    "entity_counter_GPE = Counter()\n",
    "\n",
    "for article in reuters_nlp:\n",
    "    # for each article, storing an entity with ORG and GPE label in the relevant list below \n",
    "    ORG = []\n",
    "    GPE = []\n",
    "    \n",
    "    for entity in article.ents:        \n",
    "        # appending the lemma representation of each entity to the list\n",
    "        if entity.label_ == 'ORG':\n",
    "            ORG.append(entity.lemma_)\n",
    "        elif entity.label_ == 'GPE':\n",
    "            GPE.append(entity.lemma_)\n",
    "        \n",
    "    # converting the list ORG and GPE to a set to remove duplicates of entity.lemma_ since we are only checking for \n",
    "    # presence of an entity in a document and not its frequency of occurrences\n",
    "    \n",
    "    # updating the count for a each lemma if the list ORG/GPE has a single occurrence of the relevant entity\n",
    "    entity_counter_ORG.update(set(ORG))\n",
    "    entity_counter_GPE.update(set(GPE))\n",
    "\n",
    "# getting the most common entities in the entity_counter\n",
    "sorted_entity_count_ORG = entity_counter_ORG.most_common(10)\n",
    "sorted_entity_count_GPE = entity_counter_GPE.most_common(10)\n",
    "\n",
    "# printing the top 10 items from the list of tuples i.e. (entity, count)\n",
    "print ('\\nTop 10 Most Frequently Occuring Entities with ORG Label')\n",
    "for entity, count in sorted_entity_count_ORG:\n",
    "    print(entity, \":\", count)\n",
    "\n",
    "# printing the top 10 items from the list of tuples i.e. (entity, count)\n",
    "print ('\\nTop 10 Most Frequently Occuring Entities with GPE Label')\n",
    "for entity, count in sorted_entity_count_GPE:\n",
    "    print(entity, \":\", count)"
   ]
  },
  {
   "cell_type": "markdown",
   "metadata": {},
   "source": [
    "**(c) [20 pts]** Give the top 50 `GPE` (countries, cities, states) entities that have the highest Pointwise Mutual Information (PMI) values with regard to the `ORG` (organization) entity **'opec'** (your list of this top 50 should be ranked in decreasing PMI value). Did you find any unexpected results? If so, why do you think it happened? If you found some of the results to be unsurprisingly, how come? **Just like in the previous part, please convert entity names to lowercase in your analysis.**\n",
    "\n",
    "Hint 1: As in lecture, when computing PMI, we will compute probabilities by counting the number of documents where entities occur or co-occur.  For example, $P('opec') = \\frac{number \\ \\ of \\ \\ documents \\ \\ containing \\ \\ 'opec'}{number \\ \\ of \\ \\ documents}$.  \n",
    "\n",
    "Hint 2: To compute this ranking, you do not have to compute the full PMI equation."
   ]
  },
  {
   "cell_type": "code",
   "execution_count": 19,
   "metadata": {},
   "outputs": [
    {
     "name": "stdout",
     "output_type": "stream",
     "text": [
      "Rank      Entity                   Ratio        \n",
      "1         lajous                   1.000        \n",
      "2         duri                     1.000        \n",
      "3         petromin                 1.000        \n",
      "4         september norway's       1.000        \n",
      "5         turben                   1.000        \n",
      "6         emirates                 1.000        \n",
      "7         the lake charles         1.000        \n",
      "8         bethesda                 1.000        \n",
      "9         east room                1.000        \n",
      "10        rosenberg                1.000        \n",
      "11        gabon                    1.000        \n",
      "12        opecna                   1.000        \n",
      "13        venezuela\"s              1.000        \n",
      "14        el salado                1.000        \n",
      "15        yanbu                    1.000        \n",
      "16        jubail                   1.000        \n",
      "17        napo                     1.000        \n",
      "18        napo province            1.000        \n",
      "19        tripoli                  1.000        \n",
      "20        saudi arabia's king      1.000        \n",
      "21        doha                     1.000        \n",
      "22        guayaquil                1.000        \n",
      "23        neutral zone             1.000        \n",
      "24        redoglia                 1.000        \n",
      "25        suharto                  1.000        \n",
      "26        materialy                1.000        \n",
      "27        hartley                  1.000        \n",
      "28        vienna                   0.850        \n",
      "29        riyadh                   0.800        \n",
      "30        saudi arabia's           0.688        \n",
      "31        quito                    0.667        \n",
      "32        balao                    0.625        \n",
      "33        qatar                    0.577        \n",
      "34        dubai                    0.571        \n",
      "35        caracas                  0.556        \n",
      "36        libya                    0.500        \n",
      "37        kahan                    0.500        \n",
      "38        pertamina                0.500        \n",
      "39        oseberg                  0.500        \n",
      "40        dunham                   0.500        \n",
      "41        new york harbor          0.500        \n",
      "42        ecuador                  0.482        \n",
      "43        nigeria                  0.471        \n",
      "44        saudi arabia             0.433        \n",
      "45        kuwait                   0.409        \n",
      "46        venezuela                0.383        \n",
      "47        the united arab emirates 0.379        \n",
      "48        la                       0.333        \n",
      "49        lagos                    0.333        \n",
      "50        jakarta                  0.333        \n"
     ]
    }
   ],
   "source": [
    "# capturing the co-occurrence of a GPE labeled entity and OPEC\n",
    "OPEC_GPE_cooccurrence = Counter()\n",
    "# capturing the occurrence of a GPE labeled entity\n",
    "GPE_occurrence = Counter()\n",
    "\n",
    "# using list comprehension to loop through entities for each article\n",
    "for article in reuters_nlp:\n",
    "    # capturing all lemmas for each article with the following tags: ORG and GPE\n",
    "    ORG = [entity.lemma_ for entity in article.ents if entity.label_ == 'ORG']\n",
    "    GPE = [entity.lemma_ for entity in article.ents if entity.label_ == 'GPE']\n",
    "    \n",
    "    # set is needed to create/increment the counter for an entity by '1' if its present in the article \n",
    "    # instead of by its # of occurrences\n",
    "    # updating the occurrence dictionary with list GPE \n",
    "    GPE_occurrence.update(set(GPE))\n",
    "    # checking if 'OPEC' exists in the list for ORG labeled entities\n",
    "    if 'opec' in ORG:\n",
    "        # updating the co_occurrence dictionary with the entities labeled as GPE, that co-occur with OPEC\n",
    "        OPEC_GPE_cooccurrence.update(set(GPE))\n",
    "\n",
    "# empty dictionary to store the GPE entities and their associated ratio with OPEC        \n",
    "ratio = {}\n",
    "\n",
    "# calculating part of the PMI ratio (note that co-occurrence is a subset of occurrence)        \n",
    "for entity, count in OPEC_GPE_cooccurrence.items():\n",
    "    ratio[entity] = count/ GPE_occurrence[entity]\n",
    "\n",
    "# sorting the ratios from highest to lowest (altenratively, can use itemgetter)\n",
    "sorted_ratios = {entity: ratio for entity, ratio in sorted(ratio.items(), reverse = True, key=lambda item: item[1])}\n",
    "    \n",
    "# saving the first 50 items of the dictionary as a list of tuples\n",
    "first_50 = list(sorted_ratios.items())[:50]\n",
    "\n",
    "# printing output\n",
    "print('{:<10s}{:<25s}{:<13s}'.format('Rank', 'Entity', 'Ratio'))\n",
    "for i in range(len(first_50)):\n",
    "    print('{:<10s}{:<25s}{:<13.3f}'.format(str(i + 1), first_50[i][0], first_50[i][1]))    \n"
   ]
  },
  {
   "cell_type": "markdown",
   "metadata": {},
   "source": [
    "Entities like Saudi Arabia, Qatar, Libya, Ecuador are in the top 50 highest ratios (calculated using a part of the PMI equation). This makes sense because these countries are part of the 15 members of OPEC. Vienna is also in the list above since OPEC is headquartered in this city, although Austria is not a member state. However, some entities such as New York Harbor and Jakarta do not make sense since they are not OPEC member states and should ideally not have high co-occurrence. Nonetheless, they co-occur with OPEC possibly because these countries import oil from member states. Moreover, this ratio to arrange most frequently co-occuring entities with OPEC can be an erroneous metric since entities with low occurrence may end up having higher ratios if they co-occur with OPEC. "
   ]
  },
  {
   "cell_type": "markdown",
   "metadata": {},
   "source": [
    "### [Problem 3] Questionnaire [5 pts]\n",
    "\n",
    "Please provide feedback! To receive the 5 points, be sure to enter your Andrew ID correctly in this Google form: https://forms.gle/ojrc5eWcm7gDnN8L7"
   ]
  }
 ],
 "metadata": {
  "anaconda-cloud": {},
  "kernelspec": {
   "display_name": "Python 3",
   "language": "python",
   "name": "python3"
  },
  "language_info": {
   "codemirror_mode": {
    "name": "ipython",
    "version": 3
   },
   "file_extension": ".py",
   "mimetype": "text/x-python",
   "name": "python",
   "nbconvert_exporter": "python",
   "pygments_lexer": "ipython3",
   "version": "3.8.3"
  }
 },
 "nbformat": 4,
 "nbformat_minor": 2
}
