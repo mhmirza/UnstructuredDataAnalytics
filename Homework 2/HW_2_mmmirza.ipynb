{
 "cells": [
  {
   "cell_type": "markdown",
   "metadata": {},
   "source": [
    "# Unstructured Data Analytics HW2\n",
    "\n",
    "Name: Mohammad Manzoor Hassan Mirza\n",
    " \n",
    "Andrew ID: mmmirza\n",
    "\n",
    "Collaborators (if none, say \"none\"; do *not* leave this blank): none\n",
    "\n",
    "Reminder: you should not be sharing code."
   ]
  },
  {
   "cell_type": "markdown",
   "metadata": {},
   "source": [
    "## Question 1: Clustering emails using Gaussian Mixture Models [50 pts]"
   ]
  },
  {
   "cell_type": "markdown",
   "metadata": {},
   "source": [
    "For this problem, we will be analyzing emails taken from the [Enron Email Dataset](https://www.cs.cmu.edu/~enron/). We have already curated the data for you in the `data/enron` directory, with one file per email (so there is no need to redownload the dataset as it is already included in this homework zip archive). The dataset includes a combination of \"spam\" and \"ham\" emails. Spam emails are unsolicited messages intended to sell a product or scam users into providing personal information, while ham emails represent everything that is not spam.\n",
    "\n",
    "The language used in spam emails tends to be considerably different from typical business emails. Most spam filters leverage this difference in word frequencies to detect spam as it arrives and filter it out of email inboxes. We will use Gaussian Mixture Models (GMMs) to cluster the emails and attempt to identify groups of emails which are likely to be spam."
   ]
  },
  {
   "cell_type": "markdown",
   "metadata": {},
   "source": [
    "### Part A: Construct a list of processed documents [10 points]"
   ]
  },
  {
   "cell_type": "markdown",
   "metadata": {},
   "source": [
    "Provided below is a function that returns a document present in a file given a filename. The function performs some preprocessing to (1) remove punctuation, (2),(3) remove whitespace and (4) lowercase all words. Using the `make_word_list` function, construct a list of processed documents."
   ]
  },
  {
   "cell_type": "code",
   "execution_count": null,
   "metadata": {},
   "outputs": [],
   "source": [
    "# extracting zip file to ./data/enron\n",
    "\n",
    "# import zipfile as zf\n",
    "# files = zf.ZipFile(\"./enron.zip\", 'r')\n",
    "# files.extractall(\"./data\")\n",
    "# files.close()"
   ]
  },
  {
   "cell_type": "code",
   "execution_count": 1,
   "metadata": {},
   "outputs": [],
   "source": [
    "import re\n",
    "import string\n",
    "import codecs\n",
    "import os\n",
    "\n",
    "def make_word_list(path):\n",
    "    \n",
    "    with codecs.open(path, \"r\", encoding='utf-8', errors='ignore') as f:\n",
    "        corpus_text = f.read()\n",
    "\n",
    "    for c in string.punctuation:\n",
    "        corpus_text = corpus_text.replace(c, \"\")  # -- (1)\n",
    "    \n",
    "    text = re.sub(r'\\S*\\d\\S*', '', corpus_text) # -- (2)\n",
    "    text = re.sub(r'[^\\w\\s]', '', text)         # -- (3)\n",
    "    \n",
    "    text = text.lower().split()           # -- (4)         \n",
    "    \n",
    "    li = []\n",
    "    for token in text:\n",
    "        li.append(token)\n",
    "\n",
    "    return \" \".join(li)\n",
    "\n",
    "# setting the path to the folder containing all files\n",
    "path = './data/enron/'\n",
    "\n",
    "# iterate over files in that path\n",
    "processed_docs_list = []\n",
    "for filename in os.listdir(path): \n",
    "    if filename != '.DS_Store':\n",
    "        # setting the path to a specific file as a string\n",
    "        path_file = os.path.join(path, filename)\n",
    "        # creating a single string of words from a particular document \n",
    "        words = make_word_list(path_file)\n",
    "        # appending that string of words to a list i.e. processed_list\n",
    "        processed_docs_list.append(words)"
   ]
  },
  {
   "cell_type": "markdown",
   "metadata": {},
   "source": [
    "### Part B: Construct a document matrix [10 points]"
   ]
  },
  {
   "cell_type": "markdown",
   "metadata": {},
   "source": [
    "Next, construct a document matrix `X` as a matrix of [TF-IDF](https://en.wikipedia.org/wiki/Tf%E2%80%93idf) features for each document. TF-IDF features encode information about the word frequency within a document, weighted by the frequency of the same word for corpus as a whole.\n",
    "\n",
    "   - Use the `TfidfVectorizer` from [scikit-learn](http://scikit-learn.org/stable/modules/generated/sklearn.feature_extraction.text.TfidfVectorizer.html) to create the document matrix `X`.\n",
    "   - Set `min_df=50`; this drops words that don't occur in at least 50 documents.\n",
    "   - Set `stop_words=\"english\"` and `max_df=0.8` to filter out stop-words.\n",
    "   - Print the number of unique words in the vocabulary Hint: Look for the `vocabulary_` attribute in the `TfidfVectorizer` object after fitting the vectorizer to the data set. The vocabulary will also be needed in part (d)."
   ]
  },
  {
   "cell_type": "code",
   "execution_count": 2,
   "metadata": {
    "scrolled": false
   },
   "outputs": [
    {
     "name": "stdout",
     "output_type": "stream",
     "text": [
      "1680\n"
     ]
    }
   ],
   "source": [
    "# Note: TF means term-frequency while TF-IDF means term-frequency x inverse document-frequency. \n",
    "# this is a common term weighting scheme in information retrieval, that has also found good use in document classification\n",
    "\n",
    "# Unlike CountVectorizer, TfidfVectorizer not only focuses on term freq but also their relative importance(check link above)\n",
    "from sklearn.feature_extraction.text import TfidfVectorizer\n",
    "\n",
    "# TfidfVectorizer does tokenization and can remove terms that occur too frequently, not frequently enough, or are stop words\n",
    "tf_idf_vectorizer = TfidfVectorizer(max_df=0.8, # remove words that appear in more than 80% of the emails (low value)\n",
    "                                min_df=50, # remove words that do not appear in at least 50 emails\n",
    "                                stop_words='english') \n",
    "\n",
    "# transform gives you a feature vector representation, where rows are emails (samples) and columns are the words (features) \n",
    "# and each cell in the output represents the 'weighted' frequency of a particular word in a particular document  \n",
    "X = tf_idf_vectorizer.fit_transform(processed_docs_list) \n",
    "# X.shape() <- (5171, 1680) i.e. (# of documents, # of words)\n",
    "\n",
    "# printing the number of unique words \n",
    "vocab = list(tf_idf_vectorizer.vocabulary_.keys())\n",
    "print(len(vocab))"
   ]
  },
  {
   "cell_type": "markdown",
   "metadata": {},
   "source": [
    "### Part C: Perform Clustering [10 points]"
   ]
  },
  {
   "cell_type": "markdown",
   "metadata": {},
   "source": [
    "Perform clustering on the document matrix `X` using GMMs. \n",
    "- Use the `GaussianMixture` module from [scikit-learn](http://scikit-learn.org/stable/modules/generated/sklearn.mixture.GaussianMixture.html) to cluster the documents.\n",
    "- Set the number of clusters (mixture components) to 3.\n",
    "- Print the number of documents assigned to each cluster."
   ]
  },
  {
   "cell_type": "code",
   "execution_count": 3,
   "metadata": {},
   "outputs": [
    {
     "name": "stdout",
     "output_type": "stream",
     "text": [
      "Number of documents assigned to cluster 0 is:  4378\n",
      "Number of documents assigned to cluster 1 is:  365\n",
      "Number of documents assigned to cluster 2 is:  428\n"
     ]
    }
   ],
   "source": [
    "from sklearn.mixture import GaussianMixture\n",
    "\n",
    "#convering the sparse matrix to a 2D numpy array (X is a sparse because not not every document has every word in it) \n",
    "X = X.toarray()\n",
    "\n",
    "# using GMM to cluster the documents based on the TF-IDF 2D-array calculated in previous part\n",
    "gmm = GaussianMixture(n_components=3, random_state=0)\n",
    "gmm.fit(X) \n",
    "\n",
    "# although predict is usually used to give new data, here we are providing it the same matrix X which was used for fitting\n",
    "# it assigns each document in matrix X to a particular cluster\n",
    "gmm_cluster_assignments = gmm.predict(X)\n",
    "\n",
    "# printing the number of documents assigned to each cluster\n",
    "for cluster in range(3): \n",
    "    print ('Number of documents assigned to cluster ' + str(cluster) + ' is: ', (gmm_cluster_assignments == cluster).sum())"
   ]
  },
  {
   "cell_type": "markdown",
   "metadata": {},
   "source": [
    "### Part D: Characterize the clusters [10 points]"
   ]
  },
  {
   "cell_type": "markdown",
   "metadata": {},
   "source": [
    "Now, we will attempt to characterize the clusters based on the frequency of spam-relevant words. \n",
    "- Select 3 \"spammy\" words from the vocabulary that you expect to occur frequently in spam emails and less frequently in normal business emails (e.g., 'click', 'www', 'offer'). Construct a list, `spam_indices`, storing the indices of the spammy words you selected in the vocabulary generated by `TfidfVectorizer`.\n",
    "- Select 3 \"hammy\" words from the vocabulary you think will occur frequently in business emails and infrequently in spam emails (e.g., 'meeting', 'attached', 'review'). Construct a list, `ham_indices`, storing the indices of the hammy words you selected in the vocabulary generated by `TfidfVectorizer`.\n",
    "- Use the function provided below, `plot_spam_words_by_cluster`, to plot the average TF-IDF features for your selected spammy words and hammy words for each cluster. The function takes the following parameters:\n",
    "    - `X` is a matrix of TF-IDF features (rows index documents, columns index terms).\n",
    "    - `predicted` is predicted cluster assignments returned by `GaussianMixture.predict()`\n",
    "    - `n_clusters` is the number of clusters. This should match the number of clusters from your GMM.\n",
    "    - `spam_indices` is a list of indices of spammy words in the vocabulary.\n",
    "    - `ham_indices` is a list of indices of hammy (typical business) words in the vocabulary."
   ]
  },
  {
   "cell_type": "code",
   "execution_count": 4,
   "metadata": {},
   "outputs": [],
   "source": [
    "def plot_spam_words_by_cluster(X, predicted, n_clusters, spam_indices, ham_indices):\n",
    "    import numpy as np\n",
    "    import matplotlib.pyplot as plt\n",
    "    \n",
    "    # Calculate mean TF-IDF features for each cluster\n",
    "    mean_tfidf_spam = []\n",
    "    mean_tfidf_ham = []\n",
    "    for spam in spam_indices:\n",
    "        mean_tfidf_spam.append([])\n",
    "    for ham in ham_indices:\n",
    "        mean_tfidf_ham.append([])\n",
    "    \n",
    "    for i in range(n_clusters):\n",
    "        for j, spam_idx in enumerate(spam_indices):\n",
    "            mean_tfidf_spam[j].append(X[predicted==i, spam_idx].mean())\n",
    "        for j, ham_idx in enumerate(ham_indices):\n",
    "            mean_tfidf_ham[j].append(X[predicted==i, ham_idx].mean())\n",
    "    \n",
    "    # Generate plot\n",
    "    fig, ax = plt.subplots()\n",
    "\n",
    "    ind = np.arange(n_clusters)    # the x locations for the groups\n",
    "    width = 0.10         # the width of the bars\n",
    "\n",
    "    # Plot spam bars\n",
    "    for i, val in enumerate(mean_tfidf_spam):\n",
    "        spam_bar = ax.bar(ind - (len(mean_tfidf_spam)-i-1)*width, val, width, color='r', bottom=0)\n",
    "\n",
    "    # Plot ham bars\n",
    "    for i, val in enumerate(mean_tfidf_ham):\n",
    "        ham_bar = ax.bar(ind + (len(mean_tfidf_ham)-i)*width, val, width,\n",
    "                color='y', bottom=0)\n",
    "\n",
    "    ax.set_title('Mean TF-IDF Features by Cluster for Spam-Relevant Words')\n",
    "    ax.set_xticks(ind + width / 2)\n",
    "    xticklabels = []\n",
    "    for i in range(n_clusters):\n",
    "        xticklabels.append('Cluster ' + str(i) + '\\n(n=' + str((predicted==i).sum()) + ')')\n",
    "    ax.set_xticklabels(xticklabels)\n",
    "\n",
    "    ax.legend((spam_bar[0], ham_bar[0]), ('Spammy words', 'Hammy words'))\n",
    "    ax.autoscale_view()\n",
    "    ax.set_ylabel('Mean TF-IDF')\n",
    "    plt.show()"
   ]
  },
  {
   "cell_type": "code",
   "execution_count": 5,
   "metadata": {},
   "outputs": [
    {
     "data": {
      "image/png": "[encoded data removed]",
      "text/plain": [
       "<Figure size 432x288 with 1 Axes>"
      ]
     },
     "metadata": {
      "needs_background": "light"
     },
     "output_type": "display_data"
    }
   ],
   "source": [
    "# storing the indices for spammy words\n",
    "spammy_words = ['click', 'www', 'offer']\n",
    "spammy_indices = [vocab.index(word) for word in spammy_words]\n",
    "\n",
    "# storing the indices for hammy words\n",
    "hammy_words = ['meeting', 'attached', 'review']\n",
    "hammy_indices = [vocab.index(word) for word in hammy_words]\n",
    "\n",
    "# for each of the three clusters, plotting the average TF_IDF for each of the six words\n",
    "plot_spam_words_by_cluster(X, gmm_cluster_assignments, 3, spammy_indices, hammy_indices)"
   ]
  },
  {
   "cell_type": "markdown",
   "metadata": {},
   "source": [
    "### Part E: Interpret results [10 points]"
   ]
  },
  {
   "cell_type": "markdown",
   "metadata": {},
   "source": [
    "From the plot generated in part (d), do any of the clusters correspond to spam emails, based on the frequency of spammy and hammy words? Do any of the clusters appear to correspond to typical business emails (ham)? \n",
    "\n",
    "Re-run your analysis with a different choice for the number of clusters in your GMM (e.g., `n_clusters=5` or `n_clusters=2`). How does changing the number of clusters affect your results? Does one choice of `n_clusters` appear better than another for locating clusters of spam emails?"
   ]
  },
  {
   "cell_type": "markdown",
   "metadata": {},
   "source": [
    "The clusters do not appear to have a clear distinction when characterized based on the mean TF-IDF. This is possibly because in most cases, each cluster has a much higher mean TF-IDF value for hammy words than spammy words. However, cluster 1 might \"appear\" to correspond to spam emails whereas cluster 0 and 2 appear to correspond to ham emails.\n",
    "\n",
    "Changing the clusters to n = 2 does not add any value to the analysis. However, changing the clusters to n = 5 does improve the results to some extent and helps distinguish spam clusters from non-spam ones, based on the sets of spam and ham words. There are two prominent observations in the graph for n = 5 below: cluster 0 has ham words only, which could help us rule this cluster out as non-spam; cluster 3 has a much higher representation for hammy words, which might make us inclined towards identifying this cluster as non-spam; cluster 2 and 4 appear to be ambiguous."
   ]
  },
  {
   "cell_type": "code",
   "execution_count": 6,
   "metadata": {},
   "outputs": [
    {
     "data": {
      "image/png": "[encoded data removed]",
      "text/plain": [
       "<Figure size 432x288 with 1 Axes>"
      ]
     },
     "metadata": {
      "needs_background": "light"
     },
     "output_type": "display_data"
    },
    {
     "data": {
      "image/png": "[encoded data removed]",
      "text/plain": [
       "<Figure size 432x288 with 1 Axes>"
      ]
     },
     "metadata": {
      "needs_background": "light"
     },
     "output_type": "display_data"
    }
   ],
   "source": [
    "# changing the number of clusters in GMM \n",
    "gmm_2 = GaussianMixture(n_components=2, random_state=0)\n",
    "gmm_2.fit(X) \n",
    "gmm_cluster_assignments_2 = gmm_2.predict(X)\n",
    "plot_spam_words_by_cluster(X, gmm_cluster_assignments_2, 2, spammy_indices, hammy_indices)\n",
    "\n",
    "# changing the number of clusters in GMM \n",
    "gmm_5 = GaussianMixture(n_components=5, random_state=0)\n",
    "gmm_5.fit(X) \n",
    "gmm_cluster_assignments_5 = gmm_5.predict(X)\n",
    "plot_spam_words_by_cluster(X, gmm_cluster_assignments_5, 5, spammy_indices, hammy_indices)"
   ]
  },
  {
   "cell_type": "markdown",
   "metadata": {},
   "source": [
    "## Question 2: Latent \"Purposes\" in Mobile Apps [45 points]\n",
    "\n",
    "\n",
    "Think of Android applications as \"documents\", where \"words\" are the \"permissions\" that each app requests. Each app has a set of latent \"purposes\" (topics); a \"purpose\" may be a specific task (such as taking photographs and uploading them to the internet), and an application may have a mixture of purposes of varying strength.\n",
    "\n",
    "Can we uncover these purposes from a dataset of Android applications and the permissions they request?"
   ]
  },
  {
   "cell_type": "code",
   "execution_count": 7,
   "metadata": {},
   "outputs": [],
   "source": [
    "import numpy as np\n",
    "import matplotlib.pyplot as plt\n",
    "import pandas as pd\n",
    "%matplotlib inline"
   ]
  },
  {
   "cell_type": "markdown",
   "metadata": {},
   "source": [
    "### Part A: Load the data [0 points]"
   ]
  },
  {
   "cell_type": "markdown",
   "metadata": {},
   "source": [
    "The [dataset](http://www.mariofrank.net/andrApps/) contains ~180,000 applications from the Android app store, including each app's name, description and permissions requested. For more about Android app permissions, see [this report](http://www.pewinternet.org/2015/11/10/an-analysis-of-android-app-permissions/).\n",
    "\n",
    "   * Download the data and unzip it into the same folder as this notebook.\n",
    "   * Rename the CSV file to \"android.csv\".\n",
    "   * Run the cells below to load the data into the notebook.\n",
    "\n",
    "This may take up ~2GB of RAM."
   ]
  },
  {
   "cell_type": "code",
   "execution_count": 37,
   "metadata": {},
   "outputs": [],
   "source": [
    "df = pd.read_csv(\"android.csv\", sep=\",\",  thousands=\",\")"
   ]
  },
  {
   "cell_type": "code",
   "execution_count": 38,
   "metadata": {},
   "outputs": [],
   "source": [
    "df[\"Number of ratings\"] = df[\"Number of ratings\"].astype(int) # fix data type\n",
    "df = df.drop_duplicates(subset=[\"App\"]).reset_index(drop=True)"
   ]
  },
  {
   "cell_type": "code",
   "execution_count": 39,
   "metadata": {},
   "outputs": [
    {
     "data": {
      "text/html": [
       "<div>\n",
       "<style scoped>\n",
       "    .dataframe tbody tr th:only-of-type {\n",
       "        vertical-align: middle;\n",
       "    }\n",
       "\n",
       "    .dataframe tbody tr th {\n",
       "        vertical-align: top;\n",
       "    }\n",
       "\n",
       "    .dataframe thead th {\n",
       "        text-align: right;\n",
       "    }\n",
       "</style>\n",
       "<table border=\"1\" class=\"dataframe\">\n",
       "  <thead>\n",
       "    <tr style=\"text-align: right;\">\n",
       "      <th></th>\n",
       "      <th>App</th>\n",
       "      <th>Package</th>\n",
       "      <th>Category</th>\n",
       "      <th>Description</th>\n",
       "      <th>Rating</th>\n",
       "      <th>Number of ratings</th>\n",
       "      <th>Price</th>\n",
       "      <th>Related apps</th>\n",
       "      <th>Dangerous permissions count</th>\n",
       "      <th>Safe permissions count</th>\n",
       "      <th>...</th>\n",
       "      <th>Your personal information : read Browser's history and bookmarks (D)</th>\n",
       "      <th>Your personal information : read calendar events (D)</th>\n",
       "      <th>Your personal information : read contact data (D)</th>\n",
       "      <th>Your personal information : read sensitive log data (D)</th>\n",
       "      <th>Your personal information : read user defined dictionary (D)</th>\n",
       "      <th>Your personal information : retrieve system internal state (S)</th>\n",
       "      <th>Your personal information : set alarm in alarm clock (S)</th>\n",
       "      <th>Your personal information : write Browser's history and bookmarks (D)</th>\n",
       "      <th>Your personal information : write contact data (D)</th>\n",
       "      <th>Your personal information : write to user defined dictionary (S)</th>\n",
       "    </tr>\n",
       "  </thead>\n",
       "  <tbody>\n",
       "    <tr>\n",
       "      <th>0</th>\n",
       "      <td>Google Maps</td>\n",
       "      <td>com.google.android.apps.maps</td>\n",
       "      <td>Travel &amp; Local</td>\n",
       "      <td>Download the latest release of Google Maps, an...</td>\n",
       "      <td>4.4</td>\n",
       "      <td>1438259</td>\n",
       "      <td>$0.00</td>\n",
       "      <td>{com.jsdfproductions.ctatrackerpro, com.alk.co...</td>\n",
       "      <td>17.0</td>\n",
       "      <td>8</td>\n",
       "      <td>...</td>\n",
       "      <td>0</td>\n",
       "      <td>0</td>\n",
       "      <td>1</td>\n",
       "      <td>0</td>\n",
       "      <td>0</td>\n",
       "      <td>0</td>\n",
       "      <td>0</td>\n",
       "      <td>0</td>\n",
       "      <td>1</td>\n",
       "      <td>0</td>\n",
       "    </tr>\n",
       "    <tr>\n",
       "      <th>1</th>\n",
       "      <td>Snowfall Live Wallpaper</td>\n",
       "      <td>fishnoodle.snowfall_free</td>\n",
       "      <td>Personalization</td>\n",
       "      <td>Snowfall Live Wallpaper: Wintertime on your ho...</td>\n",
       "      <td>4.3</td>\n",
       "      <td>18147</td>\n",
       "      <td>$0.00</td>\n",
       "      <td>{colfore.wallpaper.snowfree, com.tabsoft.wallp...</td>\n",
       "      <td>0.0</td>\n",
       "      <td>0</td>\n",
       "      <td>...</td>\n",
       "      <td>0</td>\n",
       "      <td>0</td>\n",
       "      <td>0</td>\n",
       "      <td>0</td>\n",
       "      <td>0</td>\n",
       "      <td>0</td>\n",
       "      <td>0</td>\n",
       "      <td>0</td>\n",
       "      <td>0</td>\n",
       "      <td>0</td>\n",
       "    </tr>\n",
       "    <tr>\n",
       "      <th>2</th>\n",
       "      <td>Aquarium Live Wallpaper</td>\n",
       "      <td>fishnoodle.aquarium_free</td>\n",
       "      <td>Personalization</td>\n",
       "      <td>A beautiful tropical fish tank live wallpaper!...</td>\n",
       "      <td>4.1</td>\n",
       "      <td>62145</td>\n",
       "      <td>$0.00</td>\n",
       "      <td>{com.convisual.lwp.fishometerlite, com.accessl...</td>\n",
       "      <td>0.0</td>\n",
       "      <td>0</td>\n",
       "      <td>...</td>\n",
       "      <td>0</td>\n",
       "      <td>0</td>\n",
       "      <td>0</td>\n",
       "      <td>0</td>\n",
       "      <td>0</td>\n",
       "      <td>0</td>\n",
       "      <td>0</td>\n",
       "      <td>0</td>\n",
       "      <td>0</td>\n",
       "      <td>0</td>\n",
       "    </tr>\n",
       "  </tbody>\n",
       "</table>\n",
       "<p>3 rows × 183 columns</p>\n",
       "</div>"
      ],
      "text/plain": [
       "                       App                       Package         Category  \\\n",
       "0              Google Maps  com.google.android.apps.maps   Travel & Local   \n",
       "1  Snowfall Live Wallpaper      fishnoodle.snowfall_free  Personalization   \n",
       "2  Aquarium Live Wallpaper      fishnoodle.aquarium_free  Personalization   \n",
       "\n",
       "                                         Description  Rating  \\\n",
       "0  Download the latest release of Google Maps, an...     4.4   \n",
       "1  Snowfall Live Wallpaper: Wintertime on your ho...     4.3   \n",
       "2  A beautiful tropical fish tank live wallpaper!...     4.1   \n",
       "\n",
       "   Number of ratings  Price  \\\n",
       "0            1438259  $0.00   \n",
       "1              18147  $0.00   \n",
       "2              62145  $0.00   \n",
       "\n",
       "                                        Related apps  \\\n",
       "0  {com.jsdfproductions.ctatrackerpro, com.alk.co...   \n",
       "1  {colfore.wallpaper.snowfree, com.tabsoft.wallp...   \n",
       "2  {com.convisual.lwp.fishometerlite, com.accessl...   \n",
       "\n",
       "   Dangerous permissions count  Safe permissions count  ...  \\\n",
       "0                         17.0                       8  ...   \n",
       "1                          0.0                       0  ...   \n",
       "2                          0.0                       0  ...   \n",
       "\n",
       "   Your personal information : read Browser's history and bookmarks (D)  \\\n",
       "0                                                  0                      \n",
       "1                                                  0                      \n",
       "2                                                  0                      \n",
       "\n",
       "   Your personal information : read calendar events (D)  \\\n",
       "0                                                  0      \n",
       "1                                                  0      \n",
       "2                                                  0      \n",
       "\n",
       "   Your personal information : read contact data (D)  \\\n",
       "0                                                  1   \n",
       "1                                                  0   \n",
       "2                                                  0   \n",
       "\n",
       "   Your personal information : read sensitive log data (D)  \\\n",
       "0                                                  0         \n",
       "1                                                  0         \n",
       "2                                                  0         \n",
       "\n",
       "   Your personal information : read user defined dictionary (D)  \\\n",
       "0                                                  0              \n",
       "1                                                  0              \n",
       "2                                                  0              \n",
       "\n",
       "   Your personal information : retrieve system internal state (S)  \\\n",
       "0                                                  0                \n",
       "1                                                  0                \n",
       "2                                                  0                \n",
       "\n",
       "   Your personal information : set alarm in alarm clock (S)  \\\n",
       "0                                                  0          \n",
       "1                                                  0          \n",
       "2                                                  0          \n",
       "\n",
       "   Your personal information : write Browser's history and bookmarks (D)  \\\n",
       "0                                                  0                       \n",
       "1                                                  0                       \n",
       "2                                                  0                       \n",
       "\n",
       "   Your personal information : write contact data (D)  \\\n",
       "0                                                  1    \n",
       "1                                                  0    \n",
       "2                                                  0    \n",
       "\n",
       "   Your personal information : write to user defined dictionary (S)  \n",
       "0                                                  0                 \n",
       "1                                                  0                 \n",
       "2                                                  0                 \n",
       "\n",
       "[3 rows x 183 columns]"
      ]
     },
     "execution_count": 39,
     "metadata": {},
     "output_type": "execute_result"
    }
   ],
   "source": [
    "df.head(n=3)"
   ]
  },
  {
   "cell_type": "markdown",
   "metadata": {},
   "source": [
    "### Part B: Convert each app into a \"document\" [0 points]\n",
    "\n",
    "The code below does the following:\n",
    "\n",
    "   * Filter out all the columns except the permission columns.\n",
    "   * Convert this dataframe into a numpy matrix.\n",
    "\n",
    "There are thus 180295 apps (documents) and 173 permissions (words).\n",
    "\n",
    "   - `X` is the \"document\" or \"word-frequency\" matrix.\n",
    "   - `permission_columns` contains the words ordered by their column index in X.\n",
    "   - `app_names` contains the application names ordered by their row index in X.\n",
    "   - `app_ratings` contains the *number* of application ratings (not the ratings themselves)."
   ]
  },
  {
   "cell_type": "code",
   "execution_count": 40,
   "metadata": {},
   "outputs": [],
   "source": [
    "permission_columns = list(df.columns[10:])\n",
    "app_names = list(df[\"App\"])\n",
    "app_ratings = np.array(df[\"Number of ratings\"])\n",
    "df_perms = df[permission_columns]\n",
    "X = df_perms.values # for each application (row), contains binary columns indicating if a certain permission is required \n",
    "# del df # uncomment to free up RAM\n",
    "# del df_perms # uncomment to free up RAM"
   ]
  },
  {
   "cell_type": "markdown",
   "metadata": {},
   "source": [
    "### Part C: Downweight \"stopwords\" [2.5 points]\n",
    "\n",
    "There are some permissions requested by almost all applications (like \"INTERNET\"), they are similar to stop-words (\"the\", \"and\", etc.) in natural language. We can downweight them by TF-IDF normalization.\n",
    "\n",
    "   * Use the `TfidfTransformer` class in `scikit-learn` to transform X."
   ]
  },
  {
   "cell_type": "code",
   "execution_count": 41,
   "metadata": {},
   "outputs": [],
   "source": [
    "# Note: tf–idf value increases proportionally to the number of times a word appears in the document \n",
    "# and is offset by the number of documents in the corpus that contain the word, \n",
    "# which helps to adjust for the fact that some words appear more frequently in general\n",
    "from sklearn.feature_extraction.text import TfidfTransformer\n",
    "\n",
    "# since permissions which are required by all applications add minimal classification value (similar to stop words),\n",
    "# we downweight them using TF-IDF instead of simply using TF  \n",
    "X = TfidfTransformer().fit_transform(X)"
   ]
  },
  {
   "cell_type": "markdown",
   "metadata": {},
   "source": [
    "### Part D: Discover 10 \"topics\" [2.5 points]\n",
    "\n",
    "   * Use the `LatentDirichletAllocation` class in `scikit-learn` to fit 10 topics to the data.\n",
    "   * Use 10 max iterations, set `n_jobs=-1` to use all cores on your machine (if it helps).\n",
    "   * Feel free to understand and play around with other parameters.\n",
    "   * This may take around 3 minutes to run."
   ]
  },
  {
   "cell_type": "code",
   "execution_count": 42,
   "metadata": {},
   "outputs": [
    {
     "name": "stdout",
     "output_type": "stream",
     "text": [
      "Wall time: 4min 29s\n"
     ]
    },
    {
     "data": {
      "text/plain": [
       "LatentDirichletAllocation(n_jobs=-1, random_state=0)"
      ]
     },
     "execution_count": 42,
     "metadata": {},
     "output_type": "execute_result"
    }
   ],
   "source": [
    "%%time\n",
    "from sklearn.decomposition import LatentDirichletAllocation\n",
    "\n",
    "num_topics = 10\n",
    "lda = LatentDirichletAllocation(n_components=num_topics, n_jobs = -1, max_iter = 10, random_state=0)\n",
    "\n",
    "# using LDA on TF-IDF array X (rows are documents/applications and columns are words/permissions)\n",
    "lda.fit(X)"
   ]
  },
  {
   "cell_type": "code",
   "execution_count": 43,
   "metadata": {},
   "outputs": [
    {
     "data": {
      "text/plain": [
       "(10, 173)"
      ]
     },
     "execution_count": 43,
     "metadata": {},
     "output_type": "execute_result"
    }
   ],
   "source": [
    "# checking the shape of the output from LDA (10 topics, 173 permissions)\n",
    "lda.components_.shape"
   ]
  },
  {
   "cell_type": "code",
   "execution_count": 44,
   "metadata": {},
   "outputs": [
    {
     "data": {
      "text/plain": [
       "array([1., 1., 1., 1., 1., 1., 1., 1., 1., 1.])"
      ]
     },
     "execution_count": 44,
     "metadata": {},
     "output_type": "execute_result"
    }
   ],
   "source": [
    "# to convert TF-IDF array to a probalitiy distribution of permissions for each topic (normalization)\n",
    "topic_permissions_distributions = np.array([row / row.sum() for row in lda.components_])\n",
    "\n",
    "# to verify that for each topic identified by LDA, the sum of probs across all permissions is equal to 1\n",
    "topic_permissions_distributions.sum(axis=1)"
   ]
  },
  {
   "cell_type": "markdown",
   "metadata": {},
   "source": [
    "Now each app can be viewed as a distribution over these 10 topics, and each topic is a distribution over all the permissions in the data."
   ]
  },
  {
   "cell_type": "markdown",
   "metadata": {},
   "source": [
    "### Part E: List the top 10 \"words\" in each topic [15 points]\n",
    "\n",
    "Do any of the topics correspond to meaningful app \"purposes\"? List the ones you find meaningful below:\n",
    "\n",
    "   * Topic #i: \"your interpretation\""
   ]
  },
  {
   "cell_type": "code",
   "execution_count": 45,
   "metadata": {},
   "outputs": [
    {
     "name": "stdout",
     "output_type": "stream",
     "text": [
      "Displaying the top 10 permissions per topic and their probabilities within the topic...\n",
      "\n",
      "\n",
      "[Topic 0] \n",
      "\n",
      "Your location : coarse (network-based) location (D) : 0.25263653565583427\n",
      "Your location : fine (GPS) location (D) : 0.24252720873391073\n",
      "Network communication : full Internet access (D) : 0.15199326092068594\n",
      "Network communication : view network state (S) : 0.10141803527778044\n",
      "Phone calls : read phone state and identity (D) : 0.08185838560381938\n",
      "Storage : modify/delete USB storage contents modify/delete SD card contents (D) : 0.06379643094513857\n",
      "Services that cost you money : directly call phone numbers (D) : 0.051092697118316786\n",
      "Network communication : view Wi-Fi state (S) : 0.026962007867490183\n",
      "Your personal information : read sensitive log data (D) : 0.02158493529798257\n",
      "Hardware controls : test hardware (S) : 0.0021507584583803823\n",
      "\n",
      "[Topic 1] \n",
      "\n",
      "Hardware controls : control vibrator (S) : 0.43315286583604024\n",
      "Network communication : full Internet access (D) : 0.14102352919735206\n",
      "Network communication : view network state (S) : 0.09436993211549445\n",
      "Storage : modify/delete USB storage contents modify/delete SD card contents (D) : 0.06599385738634704\n",
      "System tools : disable keylock (D) : 0.05941349291754594\n",
      "Phone calls : read phone state and identity (D) : 0.05599749272375291\n",
      "System tools : prevent device from sleeping (D) : 0.03242600150560651\n",
      "Hardware controls : change your audio settings (D) : 0.029970682856495907\n",
      "Default : modify battery statistics (S) : 0.020710427260728498\n",
      "System tools : modify global system settings (D) : 0.020120306763175565\n",
      "\n",
      "[Topic 2] \n",
      "\n",
      "Network communication : full Internet access (D) : 0.7022537758164954\n",
      "Network communication : view network state (S) : 0.2972182060217093\n",
      "Your accounts : Google Finance (D) : 5.917122115397626e-05\n",
      "Your personal information : read contact data (D) : 2.7579282970267895e-06\n",
      "System tools : modify global system settings (D) : 2.757926207089607e-06\n",
      "Your accounts : view configured accounts (S) : 2.7579261884074546e-06\n",
      "Your accounts : discover known accounts (S) : 2.757925458489365e-06\n",
      "Services that cost you money : send SMS messages (D) : 2.757924342934807e-06\n",
      "Your messages : receive SMS (D) : 2.7579235786046097e-06\n",
      "Your accounts : use the authentication credentials of an account (D) : 2.7579235285124847e-06\n",
      "\n",
      "[Topic 3] \n",
      "\n",
      "Your accounts : discover known accounts (S) : 0.1311498925824067\n",
      "Default : directly install applications (S) : 0.05118139582852227\n",
      "Your accounts : use the authentication credentials of an account (D) : 0.04283499945958365\n",
      "Storage : modify/delete USB storage contents modify/delete SD card contents (D) : 0.039620010500624955\n",
      "Network communication : view network state (S) : 0.03703364560283671\n",
      "Network communication : full Internet access (D) : 0.033028568946383084\n",
      "System tools : prevent device from sleeping (D) : 0.030300873281315827\n",
      "Your accounts : manage the accounts list (D) : 0.02750004089076454\n",
      "Default : delete applications (S) : 0.025954472925627803\n",
      "Phone calls : read phone state and identity (D) : 0.024026690607740007\n",
      "\n",
      "[Topic 4] \n",
      "\n",
      "System tools : prevent device from sleeping (D) : 0.32940818315895787\n",
      "Network communication : full Internet access (D) : 0.11269561045608933\n",
      "System tools : automatically start at boot (S) : 0.10605020728003677\n",
      "Storage : modify/delete USB storage contents modify/delete SD card contents (D) : 0.10525506569177955\n",
      "Network communication : view network state (S) : 0.10203461918739219\n",
      "Phone calls : read phone state and identity (D) : 0.08020751444384608\n",
      "Hardware controls : control vibrator (S) : 0.07747416679828584\n",
      "System tools : change your UI settings (D) : 0.030417697154073706\n",
      "System tools : set wallpaper size hints (S) : 0.02206163330939375\n",
      "System tools : set wallpaper (S) : 0.017177702306959818\n",
      "\n",
      "[Topic 5] \n",
      "\n",
      "Storage : modify/delete USB storage contents modify/delete SD card contents (D) : 0.37108798424395667\n",
      "System tools : set wallpaper (S) : 0.19803578794974666\n",
      "Network communication : full Internet access (D) : 0.18897134994271217\n",
      "Network communication : view network state (S) : 0.1459791825519657\n",
      "Phone calls : read phone state and identity (D) : 0.07154383354750998\n",
      "System tools : mount and unmount filesystems (D) : 0.010513207750096298\n",
      "Network communication : view Wi-Fi state (S) : 0.010401533859227543\n",
      "Default : bind to a wallpaper (S) : 0.0027733403509062685\n",
      "Default : discover known accounts (S) : 3.854096780148966e-05\n",
      "Default : write instant messages (S) : 2.1539782701893402e-05\n",
      "\n",
      "[Topic 6] \n",
      "\n",
      "Hardware controls : take pictures and videos (D) : 0.16261570629362232\n",
      "Hardware controls : record audio (D) : 0.0766894469211298\n",
      "Storage : modify/delete USB storage contents modify/delete SD card contents (D) : 0.07625583876660574\n",
      "Your location : fine (GPS) location (D) : 0.06848483244189485\n",
      "Network communication : full Internet access (D) : 0.06001490504185146\n",
      "Your location : coarse (network-based) location (D) : 0.05991582276245172\n",
      "Network communication : view network state (S) : 0.052905863299568034\n",
      "Hardware controls : control vibrator (S) : 0.052133491274511855\n",
      "Your location : access extra location provider commands (S) : 0.048622284925743865\n",
      "Phone calls : read phone state and identity (D) : 0.04366834428622806\n",
      "\n",
      "[Topic 7] \n",
      "\n",
      "Phone calls : read phone state and identity (D) : 0.20865005633212297\n",
      "Network communication : view Wi-Fi state (S) : 0.19317811960412162\n",
      "Network communication : view network state (S) : 0.1418554284772559\n",
      "Network communication : full Internet access (D) : 0.1413534542331479\n",
      "Storage : modify/delete USB storage contents modify/delete SD card contents (D) : 0.0666783799432395\n",
      "System tools : change Wi-Fi state (D) : 0.052923879191613774\n",
      "System tools : kill background processes (S) : 0.05195702145383165\n",
      "Network communication : create Bluetooth connections (D) : 0.036769899277953697\n",
      "System tools : bluetooth administration (D) : 0.030759326709813843\n",
      "System tools : change network connectivity (D) : 0.027998922128549448\n",
      "\n",
      "[Topic 8] \n",
      "\n",
      "System tools : retrieve running applications (D) : 0.12565803666539618\n",
      "Network communication : receive data from Internet (S) : 0.09168678425300997\n",
      "Services that cost you money : directly call phone numbers (D) : 0.08795186452140119\n",
      "Phone calls : read phone state and identity (D) : 0.08787410969762605\n",
      "Network communication : view network state (S) : 0.08381816625765062\n",
      "Network communication : full Internet access (D) : 0.08312522241391036\n",
      "Storage : modify/delete USB storage contents modify/delete SD card contents (D) : 0.06616101955066189\n",
      "System tools : prevent device from sleeping (D) : 0.05392824630165657\n",
      "Hardware controls : control vibrator (S) : 0.0520570951757461\n",
      "Your location : fine (GPS) location (D) : 0.04960687885043327\n",
      "\n",
      "[Topic 9] \n",
      "\n",
      "Your personal information : read contact data (D) : 0.12824396608890826\n",
      "Services that cost you money : send SMS messages (D) : 0.08421558437002966\n",
      "System tools : modify global system settings (D) : 0.0663186713717039\n",
      "Phone calls : read phone state and identity (D) : 0.0519650628798403\n",
      "Your messages : receive SMS (D) : 0.050443446799649204\n",
      "Network communication : full Internet access (D) : 0.04215279406359202\n",
      "Your personal information : write contact data (D) : 0.04104333420962122\n",
      "Phone calls : intercept outgoing calls (D) : 0.0389068748466359\n",
      "Your messages : read SMS or MMS (D) : 0.038842045191871316\n",
      "System tools : automatically start at boot (S) : 0.03785457372079102\n",
      "\n"
     ]
    }
   ],
   "source": [
    "num_topics = len(topic_permissions_distributions)\n",
    "num_top_permissions = 10\n",
    "print('Displaying the top %d permissions per topic and their probabilities within the topic...' % num_top_permissions)\n",
    "print('\\n')\n",
    "features = permission_columns \n",
    "\n",
    "for topic_idx in range(num_topics):\n",
    "    print('[Topic ', topic_idx, '] \\n', sep='')\n",
    "    # sorting the probabilities of permissions for each row i.e. topic, and saving the sorted indices\n",
    "    sort_indices = np.argsort(-topic_permissions_distributions[topic_idx])\n",
    "    for rank in range(num_top_permissions): # top 10 words i.e. permissions only\n",
    "        # saving the index from the top 10 indices in sort_indices (one at a time) \n",
    "        perm_idx = sort_indices[rank]\n",
    "        # using the saved index to retreive the permission name from df_perms & corresponding cell in topic_permissions_dist\n",
    "        print(features[perm_idx], ':', topic_permissions_distributions[topic_idx, perm_idx])\n",
    "    print()"
   ]
  },
  {
   "cell_type": "markdown",
   "metadata": {},
   "source": [
    "Topic 5 could be about storage since it assigns a high probability to modifying/deleting USB storage contents. It also includes permissions to mount and unmount filesystems.\n",
    "\n",
    "Topic 6 involves permissions for taking pictures & videos, and recording audio, which might be indicative that this topic is related to social media. If we look at the topic distribution for each application, we might find apps like Google Photos having a high probability for this topic.\n",
    "\n",
    "Topic 7 is possibly about wifi-services, since it has viewing and changing wifi state as one of its top 10 permissions. It also include creating bluetooth connections, possibly for hotspot usage."
   ]
  },
  {
   "cell_type": "markdown",
   "metadata": {},
   "source": [
    "### Part F: For each topic, list the top 3 apps with at least 100000 ratings having the highest probability assigned to that topic [15 points]\n",
    "\n",
    "   - This further helps us understand what the topics actually mean.\n",
    "   - However, the data is noisy and this exercise may result in listing a bunch of obscure apps.\n",
    "   - Hence, filtering out all apps with less than 100000 ratings may help."
   ]
  },
  {
   "cell_type": "code",
   "execution_count": 47,
   "metadata": {},
   "outputs": [
    {
     "data": {
      "text/plain": [
       "array([1., 1., 1., ..., 1., 1., 1.])"
      ]
     },
     "execution_count": 47,
     "metadata": {},
     "output_type": "execute_result"
    }
   ],
   "source": [
    "# Note: transformed X from part C is an TF-IDF array of size (180295, 173) i.e. (applications, permissions)\n",
    "# Fitting LDA on X in part D allowed us to get a get an output of (10, 173) i.e. (topics, permissions)\n",
    "\n",
    "# Now we transform X such that in the array app_topic_matrix we get:\n",
    "# for each document i.e. application (row), the proportion of the application covering each topic (column) -> (180295, 10)\n",
    "app_topic_matrix = lda.transform(X)\n",
    "\n",
    "# checking if the topic probabilities for each application, sums to 1\n",
    "app_topic_matrix.sum(axis=1)"
   ]
  },
  {
   "cell_type": "code",
   "execution_count": 50,
   "metadata": {},
   "outputs": [
    {
     "name": "stdout",
     "output_type": "stream",
     "text": [
      "Displaying the top 3 applications per topic and their probabilities for the topic...\n",
      "\n",
      "\n",
      "[Topic 0] \n",
      "\n",
      "Dictionary.com : 0.7169209884462354\n",
      "Air Control Lite : 0.7169209884462354\n",
      "Paper Toss : 0.6935381403208715\n",
      "\n",
      "[Topic 1] \n",
      "\n",
      "Live Holdem Poker Pro : 0.7166983183679115\n",
      "Vaulty Free Hides Pictures : 0.7166983183679115\n",
      "Bubble Blast 2 : 0.6932401124059416\n",
      "\n",
      "[Topic 2] \n",
      "\n",
      "Angry Birds Seasons : 0.6247330077338598\n",
      "Yoo Ninja! Free : 0.6247330077338598\n",
      "Adobe Reader : 0.549969102236762\n",
      "\n",
      "[Topic 3] \n",
      "\n",
      "Lookout Security & Antivirus : 0.8569163447537493\n",
      "Antivirus Free : 0.8544503907474101\n",
      "WhatsApp Messenger : 0.8455299046384344\n",
      "\n",
      "[Topic 4] \n",
      "\n",
      "Real BlackJack : 0.7163520872799772\n",
      "Alchemy : 0.7154622330070897\n",
      "Tank Hero : 0.7153334203786537\n",
      "\n",
      "[Topic 5] \n",
      "\n",
      "World Newspapers : 0.6962019779666523\n",
      "Paradise Island : 0.6962019779666523\n",
      "My Country : 0.6962019779666523\n",
      "\n",
      "[Topic 6] \n",
      "\n",
      "Brightest Flashlight Free™ : 0.7624657178487542\n",
      "Brightest Flashlight Free??? : 0.7624657178487542\n",
      "Tiny Flashlight + LED : 0.749671949061801\n",
      "\n",
      "[Topic 7] \n",
      "\n",
      "Slice It! : 0.7208911879160542\n",
      "Racing Moto : 0.6877727024108419\n",
      "ES File Explorer : 0.6734684302402499\n",
      "\n",
      "[Topic 8] \n",
      "\n",
      "TuneIn Radio : 0.7434436411344\n",
      "Restaurant Story™ : 0.7273352135408492\n",
      "Restaurant Story??? : 0.7273352135408492\n",
      "\n",
      "[Topic 9] \n",
      "\n",
      "chompSMS : 0.7826963715764077\n",
      "Ringdroid : 0.7072961793955519\n",
      "Google Sky Map : 0.7062778399267382\n",
      "\n"
     ]
    }
   ],
   "source": [
    "# setting the parameters from the dataset\n",
    "num_top_apps = 3\n",
    "app_names = list(df[\"App\"])\n",
    "app_ratings = np.array(df[\"Number of ratings\"])\n",
    "\n",
    "# filtering out appplications with ratings less than 10000\n",
    "filtered_boolean = app_ratings >= 100000\n",
    "# empty list of indices for applications meeting the above condition\n",
    "filtered_indices = []\n",
    "for idx, boolean in enumerate(filtered_boolean):\n",
    "    if boolean == True:\n",
    "        filtered_indices.append(idx)\n",
    "\n",
    "# using the filtered indices to restrict rows in the 2D-array app_topic matrix \n",
    "filtered_app_topic_matrix = app_topic_matrix[filtered_indices, :]\n",
    "filtered_app_names = [app_names[i] for i in filtered_indices]\n",
    "\n",
    "# printing out apps with the top 3 probabilities for each topic (column) in app_topic_matrix\n",
    "print('Displaying the top %d applications per topic and their probabilities for the topic...' % num_top_apps)\n",
    "print('\\n')\n",
    "\n",
    "for topic_idx in range(num_topics):\n",
    "    print('[Topic ', topic_idx, '] \\n', sep='')\n",
    "    # since each column is now a topic, we are sorting the probabilities in each column\n",
    "    sort_indices = np.argsort(-filtered_app_topic_matrix[:, topic_idx])\n",
    "    for rank in range(num_top_apps): # apps with the top 3 probabilities for each topic\n",
    "        # saving the index from the top 3 indices in sort_indices (one at a time) \n",
    "        app_idx = sort_indices[rank]\n",
    "        # using the saved index to retreive the permission name from df_perms & corresponding (app, topic) probability\n",
    "        print(filtered_app_names[app_idx], ':', filtered_app_topic_matrix[app_idx, topic_idx])\n",
    "    print()"
   ]
  },
  {
   "cell_type": "markdown",
   "metadata": {},
   "source": [
    "### Part G: Visualize the document-topic proportion matrix in 2-D using t-SNE [10 points]\n",
    "\n",
    "Does our reduced dimensional space contain any structure? Visualize the documents (in the topic-space) using t-SNE.\n",
    "\n",
    "   * Use `TSNE` from `scikit-learn`.\n",
    "   * Set the angle to 0.99 and init to 'PCA'. Pick any learning rate that gives you a visually pleasing result.\n",
    "   * You may `fit` TSNE to a sample of the data (>1000 documents) instead of the full data.\n",
    "   * Remember to call `fit_transform` to obtain your 2-D data.\n",
    "   * Plot the t-SNE dimensions as a scatterplot.\n",
    "   * Color each point based on its most probable topic. Make sure you include a legend (10 colors).\n",
    "   \n",
    "Clusters in the t-SNE plot indicate groups of apps that have similar topics."
   ]
  },
  {
   "cell_type": "code",
   "execution_count": 58,
   "metadata": {},
   "outputs": [
    {
     "name": "stdout",
     "output_type": "stream",
     "text": [
      "[t-SNE] Computing 121 nearest neighbors...\n",
      "[t-SNE] Indexed 1000 samples in 0.010s...\n",
      "[t-SNE] Computed neighbors for 1000 samples in 0.162s...\n",
      "[t-SNE] Computed conditional probabilities for sample 1000 / 1000\n",
      "[t-SNE] Mean sigma: 0.000000\n",
      "[t-SNE] KL divergence after 250 iterations with early exaggeration: 55.221020\n",
      "[t-SNE] KL divergence after 1000 iterations: -0.173813\n"
     ]
    }
   ],
   "source": [
    "from sklearn.manifold import TSNE\n",
    "\n",
    "# setting the parameters for tsne model (for each app, reducing the topics/dimensions from 10 to 2 for visualization)\n",
    "tsne = TSNE(n_components=2, random_state=0, verbose=1, angle=0.99, init='pca', perplexity=40, learning_rate=500)\n",
    "\n",
    "# fitting TSNE on app_topic_matrix and transforming the output\n",
    "topic_tsne2d = tsne.fit_transform(app_topic_matrix[:1000, :])\n",
    "# for each row, returns index of the maximum value across all columns i.e. the topic with the highest prob for that app \n",
    "most_prob_indices = np.argmax(app_topic_matrix[:1000, :], axis=1)"
   ]
  },
  {
   "cell_type": "code",
   "execution_count": 66,
   "metadata": {},
   "outputs": [
    {
     "data": {
      "text/plain": [
       "Text(0.5, 1.0, 'Clustering in the tSNE 2D-Space: Applications w/ Similar Topics \\n Learning Rate = 500, Perplexity = 40')"
      ]
     },
     "execution_count": 66,
     "metadata": {},
     "output_type": "execute_result"
    },
    {
     "data": {
      "image/png": "[encoded data removed]",
      "text/plain": [
       "<Figure size 864x576 with 1 Axes>"
      ]
     },
     "metadata": {
      "needs_background": "light"
     },
     "output_type": "display_data"
    }
   ],
   "source": [
    "# setting figure size\n",
    "plt.rcParams[\"figure.figsize\"] = (12, 8)\n",
    "\n",
    "for topic in range(num_topics):\n",
    "    # for each topic, restricting rows in tSNE space to only those apps that have the highest probability for this topic\n",
    "    # plotting all x, y points in tSNE space \n",
    "    plt.scatter(topic_tsne2d[most_prob_indices == topic, 0], topic_tsne2d[most_prob_indices == topic, 1], \n",
    "                s = 10, label = \"Topic \" + str(topic))\n",
    "plt.legend(loc='upper left')\n",
    "plt.title('Clustering in the tSNE 2D-Space: Applications w/ Similar Topics \\n Learning Rate = 500, Perplexity = 40')"
   ]
  },
  {
   "cell_type": "markdown",
   "metadata": {},
   "source": [
    "It can be seen above that reducing features to a 2D t-SNE space and then coloring/assigning each application to the topic which has the highest probability, give us a clear distinction between clusters. Similar colored points are mostly grouped close together, and the perplexity seems well balanced as well since there are not too many groups."
   ]
  },
  {
   "cell_type": "markdown",
   "metadata": {},
   "source": [
    "## Question 3: Questionnaire [5 points]\n",
    "\n",
    "Please answer this survey after you have done this homework: https://forms.gle/XS94EpxXeQMKdy1e9"
   ]
  }
 ],
 "metadata": {
  "kernelspec": {
   "display_name": "Python 3",
   "language": "python",
   "name": "python3"
  },
  "language_info": {
   "codemirror_mode": {
    "name": "ipython",
    "version": 3
   },
   "file_extension": ".py",
   "mimetype": "text/x-python",
   "name": "python",
   "nbconvert_exporter": "python",
   "pygments_lexer": "ipython3",
   "version": "3.8.3"
  }
 },
 "nbformat": 4,
 "nbformat_minor": 2
}
